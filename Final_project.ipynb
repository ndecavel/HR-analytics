{
 "cells": [
  {
   "cell_type": "markdown",
   "id": "wound-notebook",
   "metadata": {},
   "source": [
    "# [Run Notebook on DeepNote](https://deepnote.com/project/f705a513-f45c-4485-a0d7-f9cbd1260dc8)\n",
    "# Table of Contents:\n",
    "1. [Data](#data)\n",
    "\n",
    "1. [Feature Engineering](#feature_engineering)\n",
    "\n",
    "1. [Algorithms & Search](#alg_search)\n",
    "\n",
    "1. [Evaluation Metrics](#metrics)\n",
    "\n",
    "1. [Ensemble Learning](#ensemble)\n",
    "\n",
    "1. [Final Model Selection and Evaluation](#final_model)\n",
    "\n",
    "1. [Results](#results)\n",
    "\n",
    "1. [Conclusion](#conclusion)"
   ]
  },
  {
   "cell_type": "code",
   "execution_count": 1,
   "id": "going-sample",
   "metadata": {
    "ExecuteTime": {
     "end_time": "2021-03-12T10:09:29.504144Z",
     "start_time": "2021-03-12T10:09:28.507215Z"
    }
   },
   "outputs": [],
   "source": [
    "# Imports\n",
    "import  numpy             as np\n",
    "import  pandas            as pd\n",
    "import  matplotlib.pyplot as plt\n",
    "import  warnings\n",
    "warnings.filterwarnings('ignore')\n",
    "\n",
    "\n",
    "# Feature Engineering\n",
    "from    category_encoders          import OneHotEncoder, OrdinalEncoder\n",
    "from    sklearn.experimental       import enable_iterative_imputer\n",
    "from    sklearn.impute             import IterativeImputer, SimpleImputer\n",
    "from    sklearn.base               import TransformerMixin\n",
    "from    sklearn.base               import BaseEstimator\n",
    "from    sklearn.preprocessing      import QuantileTransformer, StandardScaler\n",
    "from    sklearn.compose            import ColumnTransformer\n",
    "\n",
    "# Cross Validation and PipeLine\n",
    "from    sklearn.model_selection    import RandomizedSearchCV, cross_val_score\n",
    "from    sklearn.pipeline           import Pipeline\n",
    "\n",
    "# Models\n",
    "from    sklearn.ensemble           import RandomForestClassifier, ExtraTreesClassifier, StackingClassifier, \\\n",
    "                                          GradientBoostingClassifier, BaggingClassifier, VotingClassifier\n",
    "from    sklearn.neighbors          import KNeighborsClassifier\n",
    "from    sklearn.linear_model       import LogisticRegression, SGDClassifier\n",
    "from    sklearn.svm                import LinearSVC\n",
    "\n",
    "# Model Evaluation\n",
    "from    sklearn.metrics            import balanced_accuracy_score, f1_score, plot_confusion_matrix, precision_score, recall_score,accuracy_score\n",
    "from    sklearn.inspection         import permutation_importance\n"
   ]
  },
  {
   "cell_type": "markdown",
   "id": "upset-threshold",
   "metadata": {},
   "source": [
    "# Hypothetical Scenario: [Kaggle](https://www.kaggle.com/arashnic/hr-analytics-job-change-of-data-scientists)\n",
    "____\n",
    "\"A company which is active in Big Data and Data Science wants to hire data scientists among people who successfully pass some courses which conduct by the company. Many people signup for their training. Company wants to know which of these candidates are really wants to work for the company after training or looking for a new employment because it helps to reduce the cost and time as well as the quality of training or planning the courses and categorization of candidates. Information related to demographics, education, experience are in hands from candidates signup and enrollment.\n",
    "\n",
    "This dataset designed to understand the factors that lead a person to leave current job for HR researches too. By model(s) that uses the current credentials,demographics,experience data you will predict the probability of a candidate to look for a new job or will work for the company, as well as interpreting affected factors on employee decision.\"\n",
    "_____\n",
    "# Research Question:\n",
    "_____\n",
    "**Given information about an individual, can we predict whether or not they are currently looking for a new job?**\n",
    "_________\n",
    "\n",
    "\n",
    "# Data <a id='data'></a> \n",
    "_________\n",
    "**Note that our data is imbalanced. 25% of the observations have the target = 1.**\n",
    "\n",
    "The data we will be looking at includes 12 different features:\n",
    "#### Numerical Columns:\n",
    "1. ```city_development_index``` : Float from 0-1\n",
    "2. ```training_hours```: Number of hours trained\n",
    "\n",
    "#### Categorical:\n",
    "1. ```city```: 123 diff cities\n",
    "2. ```gender```: 4 genders: 'Male', 'Female', 'Other', nan\n",
    "1.  ```enrolled_university```: 'no_enrollment', 'Full time course', nan, 'Part time course'\n",
    "2.  ```education_level```: 'Graduate', 'Masters', 'High School', nan, 'Phd', 'Primary School'\n",
    "3. ```company_size```: nan, '50-99', '<10', '10000+', '5000-9999', '1000-4999', '10/49','100-500', '500-999'\n",
    "3. ```relevent_experience```: 'Has relevent experience', 'No relevent experience'\n",
    "6. ```major_discipline```: 'STEM', 'Business Degree', nan, 'Arts', 'Humanities', 'No Major', 'Other'\n",
    "8. ```last_new_job```: nan, 'never', 1,2,3,4, >4\n",
    "7. ```company_type```: 'Early Stage Startup', 'Funded Startup', 'NGO', 'Other', 'Public Sector', 'Pvt Ltd', nan\n",
    "\n",
    "\n",
    "#### Ordinal Categorical:\n",
    "1. ```experience```:  nan, <1, 1 through 20, >20\n",
    "\n",
    "\n",
    "#### Target\n",
    "1. ```target```: 1 = \"Looking for a Job\", 0 = \"Not Looking for a Job\"\n",
    "__________"
   ]
  },
  {
   "cell_type": "code",
   "execution_count": 2,
   "id": "moved-money",
   "metadata": {
    "ExecuteTime": {
     "end_time": "2021-03-12T10:09:29.548994Z",
     "start_time": "2021-03-12T10:09:29.507330Z"
    }
   },
   "outputs": [
    {
     "data": {
      "text/plain": [
       "((19158, 13), (19158,))"
      ]
     },
     "execution_count": 2,
     "metadata": {},
     "output_type": "execute_result"
    }
   ],
   "source": [
    "df = pd.read_csv('HR_Analytics/aug_train.csv')\n",
    "y = df['target'] \n",
    "X = df.drop('target', axis=1)\n",
    "X.shape, y.shape"
   ]
  },
  {
   "cell_type": "code",
   "execution_count": 66,
   "id": "digital-enough",
   "metadata": {
    "ExecuteTime": {
     "end_time": "2021-03-12T11:34:18.107366Z",
     "start_time": "2021-03-12T11:34:18.029469Z"
    }
   },
   "outputs": [
    {
     "data": {
      "image/png": "[encoded data removed]",
      "text/plain": [
       "<Figure size 432x432 with 1 Axes>"
      ]
     },
     "metadata": {},
     "output_type": "display_data"
    }
   ],
   "source": [
    "fig, ax = plt.subplots(figsize = (6,6))\n",
    "\n",
    "_, sizes = np.unique(y, return_counts=True)\n",
    "labels = ['Not Looking for Job','Looking for Job']\n",
    "ax.pie(sizes, explode=(0,0.1), labels=labels, autopct='%1.1f%%')\n",
    "ax.set_title('Depiction of Class Imbalances in Target Variable')\n",
    "plt.show();"
   ]
  },
  {
   "cell_type": "markdown",
   "id": "entire-jonathan",
   "metadata": {},
   "source": [
    "# Feature Engineering and Preprocessing Pipeline <a id='feature_engineering'></a>\n",
    "   ____________\n",
    "For this model, we divide our features into 2 main categories: Numerical and Categorical. This is in order to create a preprocessing pipeline that could correctly deal with missing values **in an appropriate way**. \n",
    "- **Categorical Preprocessing:** \n",
    "    1. The first step in this pipeline is to use a **```SimpleImputer```** to fill in the missing values (np.NaN) with \"missing\". Although there are many other strategies to use when filling in missing values, there could be underlying reasons in the data collection why an observation has missing data. Therefore, to simply fill in the missing values with the most_frequent of the data would be adding bias from us, the researcher. Without knowing more about why these values are np.nan, we can just fill in the value with \"missing\" for categorical features. \n",
    "    2. We then pipe this into a **```OneHotEncoder```** in order to encode each variable's values as a separate binary column.\n",
    "    3. Note that after further testing, I've decided to OneHotEncode the ordinal features as well. I did not notice an impact on the model itself when mapping the ordinal features individually to their relative values.\n",
    "    \n",
    "    \n",
    "    \n",
    "- **Numerical Preprocessing:**\n",
    "    1. Instead of using a SimpleImputer, I choose to use an **```IterativeImputer```** instead. The IterativeImputer tries to mimic R's MICE package (Multivariate Imputation by Chained Equations). I decided to use this because I felt that it would be a better solution than the SimpleImputer because:\n",
    "        1. Can't fill in the values with \"missing\" since that affects the pipeline when trying to standardize the columns.\n",
    "        2. [It is a step in dealing with the problem of increased noise due to imputation](https://en.wikipedia.org/wiki/Imputation_(statistics))\n",
    "    2. Next, we use a **```StandardScalar```** to normalize our data. Due to the fact that neither of my numerical columns have any severe outliers, this is preferred over a RobustScalar. In addition, the normalizing helps bring both features within a similar range.\n",
    "    3. Finally, due to the fact that many ML algorithms can perform better when the numerical features have a Gaussian distribution, we use a **```QuantileTransformer```**\n",
    "\n",
    "_________"
   ]
  },
  {
   "cell_type": "code",
   "execution_count": 6,
   "id": "individual-joining",
   "metadata": {
    "ExecuteTime": {
     "end_time": "2021-03-12T10:09:29.965837Z",
     "start_time": "2021-03-12T10:09:29.962267Z"
    }
   },
   "outputs": [],
   "source": [
    "# Our categorical column we want to OneHotEncoder\n",
    "cat_cols = ['city', 'gender', 'enrolled_university', 'major_discipline', 'experience', 'last_new_job', \n",
    "            'company_type', 'company_size', 'education_level', 'relevent_experience']\n",
    "\n",
    "\n",
    "# Our numerical columns\n",
    "num_cols = ['city_development_index', 'training_hours']\n",
    "\n",
    "\n",
    "# Categorical Pipeline\n",
    "cat_pipe = Pipeline([(\"impute\", SimpleImputer(missing_values=np.nan, fill_value='missing', strategy=\"constant\")),\n",
    "                     (\"encode\", OneHotEncoder())])\n",
    "\n",
    "\n",
    "# Numerical Pipeline\n",
    "num_pipe = Pipeline([(\"impute\", IterativeImputer(missing_values=np.nan, max_iter=10, initial_strategy=\"median\")),\n",
    "                     (\"scaler\", StandardScaler()),\n",
    "                     (\"transformer\", QuantileTransformer(output_distribution='normal'))])\n",
    "\n",
    "# Group them together with ColumnTransformer\n",
    "preprocessing = ColumnTransformer([('categorical', cat_pipe, cat_cols),\n",
    "                                   ('numerical', num_pipe, num_cols)])\n"
   ]
  },
  {
   "cell_type": "markdown",
   "id": "suitable-constitution",
   "metadata": {},
   "source": [
    "# Algorithms & Search <a id='alg_search'></a>\n",
    "_______\n",
    "For this section, I chose a few algorithms to include in my __```RandomizedSearchCV```__:\n",
    "   1. **```RandomForestClassifier```**\n",
    "       1. Why: This was a ML model that I learned in my Intro to ML class. It seemed like a very good contester for this problem because it uses multiple decision trees (that individually tend to overfit on training data) and aggregates their predictions in order to decrease the variance of the model.\n",
    "       2. Hyperparamater Tuning:\n",
    "           - **Min Samples Leaf**: ```np.linspace(1,10,4)```\n",
    "               - Min samples per leaf is a good hyperparameter to help each decision tree make more generalizable predictions. Note that the default is 1, which can lead to decision trees overfitting to the training data.\n",
    "           - **Bootstrap**: ```[True, False]```\n",
    "               - When Bootstrap is True, it means that each decision tree is shown a sample of the training data. This is an attempt to create \"dumber\" decision trees in order to have a better, generalized model. Note that this parameter is dependent on **max_samples** which we set to a small k (between 5 and 20). \n",
    "           - **Class Weight**: ```[None, 'balanced', 'balanced_subsample']```\n",
    "               - Since our data is imbalanced, we want to include a variety of class_weights. Note that since we are not performing SMOTE, I can assume that the class weight will either be balanced or a balanced_subsample. \n",
    "           - **Number of Estimators**: ```np.linspace(25,200,4)```\n",
    "              - Here I choose a variety of different number of estimators. These represent the number of decision trees that make up our \"RandomForest\". The larger the number can potentially lead to decreasing the variance of our model. \n",
    "           - **Max Samples**:  ```np.linspace(0.1, 0.9, 5)```\n",
    "              - This variable is dependent on bootstrap=True. For each base estimator, it will sample between 10-90% of X for training. If bootstrap=False. the whole data will be used to train each tree.\n",
    "           - **Max Features**: ```['auto', 'sqrt', 'log2']```\n",
    "              - For each split in each node, this feature represents the derivation needed to figure out the number of features to take into consideration. We want to make sure it chooses m features where m has a high enough probability to use at least one \"predictive\" feature.\n",
    "         \n",
    "              \n",
    "   2. **```LinearSVC```**\n",
    "       1. Why: Since this is a binary problem (we are predicting 1s and 0s), SVM can perform better than RandomForests (which is intrinsically situated for multi-class problems). In addition, SVM models can also have an advantage to more sparse data, which, with the OneHotEncoder, could prove to be useful. Finally, I decided to use a LinearSVC because it trains much quicker than the traditional SVC.\n",
    "           ![As we can see in the above image, SVC is extremely slow](Images/SGD_Comparison.png)\n",
    "                               - As we can see in the above image, SVC is extremely slow\n",
    "       \n",
    "       2. Hyperparameter Tuning:\n",
    "           - **Class Weight**: ```['balanced', None]```\n",
    "               - Similarly to my decision in RFClassification, I include both 'balanced' and None for the class weight of my SVC model\n",
    "           - **C**: ```np.linspace(0.001, 10, 10)```\n",
    "               - In an attempt to test different regularization weights, I set C to values between 1 and 100.\n",
    "       \n",
    "       \n",
    "   3. **```KNeighborsClassifier```**\n",
    "       1. Why: I included KNN because I felt like it was a fairly different algorithm from the Trees and could be interesting to see how it performs. \n",
    "       2. Hyperparameter Tuning:\n",
    "           - **Number of Neighbors**: ```np.linspace(3, 13, 3)```\n",
    "               - Tweaking the number of neighbors impacts the amount of neighbors we need to look at before classifying our observation.\n",
    "           - **Weights**: ```['uniform', 'distance']```\n",
    "               - Distance: Closer neighbors will have a higher influence on the classification than further neighbors.\n",
    "               - Uniform: Both close and far neighbors have the same weight.\n",
    "           - **p**: ```[1,2]```\n",
    "               - p = 1 -> Manhattan Distance\n",
    "               - p = 2 -> Euclidean distance\n",
    "               \n",
    "               \n",
    "   4. **```ExtraTreesClassifier```**\n",
    "       1. Why: This has a much faster implementation than RandomForestClassifier. This is due to the fact that ExtraTrees chooses its split point threshold's randomly versus RandomForest's more iterative approach.\n",
    "       2. Hyperparameter Tuning:\n",
    "           - This has the same hyperparameter tuning decisions as my RandomForestClassifier\n",
    "           \n",
    "           \n",
    "   5. **```LogisticRegression```**\n",
    "       1. Why: I included logistic regression in order to see how it performs vs. RandomForest. Logistic Regression, in general, is much quicker to train and much easier to interpret than Random Forests.\n",
    "       2. Hyperparameter Tuning:\n",
    "           - **Class Weight**: ```['balanced', None]```\n",
    "               - Similarly to my decision in RFClassification, I include both 'balanced' and None for the class weight of my LogisticRegression model\n",
    "           - **Solver**: ```['newton-cg', 'lbfgs', 'liblinear', 'sag', 'saga']```\n",
    "               - I included a variety of different solvers as these tend to be data-dependent and it is good to try a variety. Note that since my problem is not a multiclass problem, I am able to include all of these solvers.\n",
    "           - **Penalty**: ```['l1', 'l2', 'elasticnet', 'none']```\n",
    "               - This represents the penalty used in my loss function.\n",
    "               \n",
    "_______\n",
    "\n",
    "# Evaluation Metrics <a id='metrics'></a>\n",
    "__________\n",
    "I decided to use a **weighted f1 score** as my metric since my data is imbalanced.  It is equally important for this business to correctly predict those looking for work (Precision) while maintaining a high Recall Rate (we aren't missing potential job-seeking individuals). This priority is due to a focus on resource allocation. If a business wants to reach out to individuals that are currently looking for jobs, we want to use a model that efficiently allocates their resources (recruiters) by avoiding reaching out to False Positives and making sure we don't miss any True Positives."
   ]
  },
  {
   "cell_type": "code",
   "execution_count": 7,
   "id": "excess-disaster",
   "metadata": {
    "ExecuteTime": {
     "end_time": "2021-03-12T10:09:29.970481Z",
     "start_time": "2021-03-12T10:09:29.968489Z"
    }
   },
   "outputs": [],
   "source": [
    "# Helper class\n",
    "class DummyEstimator(BaseEstimator):\n",
    "    \"Pass through class, methods are present but do nothing.\"\n",
    "    def fit(self): pass\n",
    "    def score(self): pass"
   ]
  },
  {
   "cell_type": "code",
   "execution_count": 8,
   "id": "dependent-implement",
   "metadata": {
    "ExecuteTime": {
     "end_time": "2021-03-12T10:12:03.580734Z",
     "start_time": "2021-03-12T10:09:29.972302Z"
    },
    "scrolled": true
   },
   "outputs": [],
   "source": [
    "np.random.seed(1)  # Use a random seed to have consistent results\n",
    "\n",
    "pipe = Pipeline([(\"preprocessing\", preprocessing),\n",
    "                 (\"clf\", DummyEstimator())])\n",
    "\n",
    "search_space = [\n",
    "            {'clf': [ExtraTreesClassifier(n_jobs=-1)], \n",
    "                'clf__min_samples_leaf': np.linspace(1, 30, 4, dtype=int),\n",
    "                'clf__bootstrap': [True, False],\n",
    "                'clf__max_samples': np.linspace(5, 30, 4, dtype=int), \n",
    "                'clf__class_weight': [None, 'balanced', 'balanced_subsample'],\n",
    "                'clf__n_estimators': np.linspace(25, 200, 4, dtype=int)},\n",
    "                \n",
    "            {'clf': [RandomForestClassifier(n_jobs=-1)], \n",
    "                'clf__min_samples_leaf': np.linspace(1, 10, 4, dtype=int),\n",
    "                'clf__bootstrap': [True, False],\n",
    "                'clf__max_samples': np.linspace(0.1, 0.9, 5),\n",
    "                'clf__class_weight': [None, 'balanced', 'balanced_subsample'],\n",
    "                'clf__max_features': ['auto', 'sqrt', 'log2'],\n",
    "                'clf__n_estimators': np.linspace(25, 200, 4, dtype=int)},\n",
    "               \n",
    "            {'clf': [KNeighborsClassifier(n_jobs=-1)],\n",
    "                'clf__n_neighbors': np.linspace(3, 13, 3, dtype=int),\n",
    "                'clf__weights': ['uniform', 'distance'],\n",
    "                'clf__p': [1,2]},\n",
    "               \n",
    "            {'clf': [LinearSVC()],  \n",
    "                'clf__class_weight': ['balanced', None],\n",
    "                'clf__C': np.linspace(0.001, 10, 10)},\n",
    "               \n",
    "            {'clf': [LogisticRegression(n_jobs=-1)],  \n",
    "                'clf__solver': ['newton-cg', 'lbfgs', 'liblinear', 'sag', 'saga'],\n",
    "                'clf__class_weight': ['balanced', None],\n",
    "                'clf__penalty': ['l1', 'l2', 'elasticnet', 'none']},\n",
    "\n",
    "            {'clf': [SGDClassifier(n_jobs=-1)],  \n",
    "                'clf__loss': ['hinge', 'log', 'modified_huber', 'squared_hinge', 'perceptron'],\n",
    "                'clf__class_weight': ['balanced', None],\n",
    "                'clf__penalty': ['l1', 'l2', 'elasticnet']}]\n",
    "\n",
    "# Create grid search \n",
    "gs = RandomizedSearchCV(pipe, \n",
    "                        search_space, \n",
    "                        scoring='f1_weighted',\n",
    "                        n_iter=50,\n",
    "                        cv=5,\n",
    "                        n_jobs=-1)\n",
    "\n",
    "gs.fit(X, y);"
   ]
  },
  {
   "cell_type": "code",
   "execution_count": 9,
   "id": "imperial-woman",
   "metadata": {
    "ExecuteTime": {
     "end_time": "2021-03-12T10:12:03.587087Z",
     "start_time": "2021-03-12T10:12:03.582634Z"
    },
    "scrolled": true
   },
   "outputs": [
    {
     "name": "stdout",
     "output_type": "stream",
     "text": [
      "Best Weighted F1 Score: 0.797\n",
      "\n",
      "Best Model: RandomForestClassifier(bootstrap=False, class_weight='balanced_subsample',\n",
      "                       max_samples=0.1, min_samples_leaf=4, n_estimators=83,\n",
      "                       n_jobs=-1)\n"
     ]
    }
   ],
   "source": [
    "print(f'Best Weighted F1 Score: {gs.best_score_:.3f}\\n\\nBest Model: {gs.best_params_[\"clf\"]}')"
   ]
  },
  {
   "cell_type": "markdown",
   "id": "unique-india",
   "metadata": {},
   "source": [
    "# RandomizedSearchCV Results: \n",
    "Best Model:\n",
    "```python\n",
    "# Before\n",
    "RandomForestClassifier(bootstrap=False,  # No bootstrapping\n",
    "                       max_samples=0.1,   # Percent of samples to be trained on\n",
    "                       class_weight='balanced_subsample',  # Good because our data is imbalanced\n",
    "                       min_samples_leaf=4,  # Increasing can improve generalizability if we are overfitting\n",
    "                       n_estimators=83,  # Plenty of trees to train\n",
    "                       n_jobs=-1)\n",
    "\n",
    "```\n",
    "Weighted F1 Score: ``` 0.797```\n",
    "\n",
    "**Note**:\n",
    "- We notice that bootstrapping let to a worse cross-validated Weighted F1 score.\n",
    "- In addition, with bootstrapping=False, that means that class_weight being 'balanced_subsample' is the same as 'balanced'. It also means that we are not actually using our max_samples parameter and can remove it.\n",
    "- In addition, our min_samples_leaf was 4, which helps weaken the individual decision trees, but increase model generalizability (decreases variance)\n",
    "- The class_weight being balanced which makes sense because our data is imbalanced and the model needs to add weights to the different labels. This can lead to a higher recall score and a lower precision score.\n",
    "   \n",
    "```python\n",
    "# After\n",
    "RandomForestClassifier(bootstrap=False,  # No bootstrapping\n",
    "                       class_weight='balanced',  # Good because our data is imbalanced\n",
    "                       min_samples_leaf=4,  # Increasing can improve generalizability if we are overfitting\n",
    "                       n_estimators=83,  # Plenty of trees to train\n",
    "                       n_jobs=-1)\n",
    "\n",
    "```\n",
    "\n",
    "_________\n",
    "# Ensemble Learning <a id='ensemble'></a>\n",
    "_______\n",
    "In order to further improve our model, we can look into ensemble learning as a way to improve our metric (f1_weighted). Note that we will be primarily looking at:\n",
    "1. VotingClassifier()\n",
    "    - VotingClassifier combines multiple machine learning models and takes the most common prediction (\"Hard Voting\") or the probability-weighted average of the individual learners (\"Soft Voting\").\n",
    "2. Bagging\n",
    "    - Bagging is useful because it tends to reduce the time of each individual model and improve the overall generality. In addition, it can be used with a variety of different models.\n",
    "3. Boosting\n",
    "    - Boosting has shown a lot of promise in improving model metrics the most (at least what I've read online). Therefore, I predict that this may lead to my best evaluation metric.\n",
    "________"
   ]
  },
  {
   "cell_type": "code",
   "execution_count": 18,
   "id": "fossil-watson",
   "metadata": {
    "ExecuteTime": {
     "end_time": "2021-03-12T10:22:08.074209Z",
     "start_time": "2021-03-12T10:21:44.857374Z"
    }
   },
   "outputs": [
    {
     "name": "stdout",
     "output_type": "stream",
     "text": [
      "weighted F1 -> Mean: 0.796  |  Std: 0.006\n",
      "recall      -> Mean: 0.733  |  Std: 0.004\n",
      "precision   -> Mean: 0.557  |  Std: 0.011\n"
     ]
    }
   ],
   "source": [
    "np.random.seed(1)\n",
    "#Helper Function for displaying results of cross_val_score\n",
    "def print_val_score(res, name):\n",
    "    mean   = np.mean(res)\n",
    "    std    = np.std(res)\n",
    "    print(f\"{name:<11} -> Mean: {mean:.3f}  |  Std: {std:.3f}\")\n",
    "    \n",
    "    \n",
    "# Calculate the general stats for our first model to have a way to compare other methods\n",
    "rfc_clf =  RandomForestClassifier(bootstrap=False, \n",
    "                                  class_weight='balanced',\n",
    "                                  min_samples_leaf=4, \n",
    "                                  n_estimators=83,\n",
    "                                  n_jobs=-1)\n",
    "\n",
    "\n",
    "pipe = Pipeline([('preprocessing', preprocessing),\n",
    "                  ('model', rfc_clf)])\n",
    "\n",
    "scores = []\n",
    "\n",
    "scores.append(cross_val_score(pipe, X, y, cv=5, scoring='f1_weighted'))\n",
    "scores.append(cross_val_score(pipe, X, y, cv=5, scoring='recall'))\n",
    "scores.append(cross_val_score(pipe, X, y, cv=5, scoring='precision'))\n",
    "\n",
    "names = ['weighted F1', 'recall', 'precision']\n",
    "for score, name in zip(scores, names):\n",
    "    print_val_score(score, name)\n",
    "    "
   ]
  },
  {
   "cell_type": "markdown",
   "id": "special-drilling",
   "metadata": {},
   "source": [
    "# Voting Classifier:\n",
    "_______\n",
    "In this section, I simply combine 4 different models:\n",
    "1. My best model from my previous randomizedSearchCV\n",
    "2. A Logistic Regression model\n",
    "3. An ExtraTreesClassifier\n",
    "   - Note that the top two models were chosen through repeated iterations of my randomizedSearchCV where I removed the best performer at each step to see the \"next best model\".\n",
    "4. A bootstrapped RandomForestClassifier (A weaker version of my first model, but can maybe help generalize more)."
   ]
  },
  {
   "cell_type": "code",
   "execution_count": 19,
   "id": "abandoned-mitchell",
   "metadata": {
    "ExecuteTime": {
     "end_time": "2021-03-12T10:23:57.283035Z",
     "start_time": "2021-03-12T10:22:53.975852Z"
    }
   },
   "outputs": [
    {
     "name": "stdout",
     "output_type": "stream",
     "text": [
      "Weighted F1 -> Mean: 0.794  |  Std: 0.006\n",
      "recall      -> Mean: 0.742  |  Std: 0.005\n",
      "precision   -> Mean: 0.549  |  Std: 0.010\n"
     ]
    }
   ],
   "source": [
    "np.random.seed(1)\n",
    "\n",
    "# Different Models that I will be using:\n",
    "rfc_clf =  RandomForestClassifier(bootstrap=False, \n",
    "                                  class_weight='balanced',\n",
    "                                  min_samples_leaf=4, \n",
    "                                  n_estimators=83,\n",
    "                                  n_jobs=-1)\n",
    "\n",
    "lr_clf  = LogisticRegression(class_weight='balanced', \n",
    "                             n_jobs=-1, \n",
    "                             solver='sag')\n",
    "\n",
    "etc_clf = ExtraTreesClassifier(class_weight='balanced', \n",
    "                               max_samples=20,\n",
    "                               min_samples_leaf=10, \n",
    "                               n_estimators=50, \n",
    "                               n_jobs=-1)\n",
    "\n",
    "\n",
    "rfc_clf_2 = RandomForestClassifier(bootstrap=True, \n",
    "                                   max_samples=0.63,\n",
    "                                   class_weight='balanced',\n",
    "                                   min_samples_leaf=10, \n",
    "                                   n_estimators=50,\n",
    "                                   n_jobs=-1)\n",
    "\n",
    "\n",
    "# Different pipelines\n",
    "pipe1 = Pipeline([('preprocessing', preprocessing),\n",
    "                  ('model', rfc_clf)])\n",
    "\n",
    "pipe2 = Pipeline([('preprocessing', preprocessing),\n",
    "                  ('model', lr_clf)])\n",
    "\n",
    "pipe3= Pipeline([('preprocessing', preprocessing),\n",
    "                  ('model', etc_clf)])\n",
    "\n",
    "pipe4 = Pipeline([('preprocessing', preprocessing),\n",
    "                  ('model', rfc_clf_2)])\n",
    "\n",
    "estimators = [('rfc', pipe1),\n",
    "              ('lr', pipe2),\n",
    "              ('etc', pipe3),\n",
    "             ('rtc_2', pipe4)]\n",
    "\n",
    "# Initialize my VotingClassifier\n",
    "voting_clf = VotingClassifier(estimators = estimators,\n",
    "                                  voting = 'soft', \n",
    "                              weights=[2/5, 1/5, 1/5, 1/5],\n",
    "                             n_jobs=-1)\n",
    "\n",
    "# Use Cross_val_score to see how well my model performs:\n",
    "scores = []\n",
    "\n",
    "scores.append(cross_val_score(voting_clf, X, y, cv=5, scoring='f1_weighted'))\n",
    "scores.append(cross_val_score(voting_clf, X, y, cv=5, scoring='recall'))\n",
    "scores.append(cross_val_score(voting_clf, X, y, cv=5, scoring='precision'))\n",
    "\n",
    "names = ['Weighted F1', 'recall', 'precision']\n",
    "for score, name in zip(scores, names):\n",
    "    print_val_score(score, name)"
   ]
  },
  {
   "cell_type": "markdown",
   "id": "young-conjunction",
   "metadata": {},
   "source": [
    "## VotingClassifier Results:\n",
    "    - As we can see, our weighted F1 score is pretty close to how our single RandomForestClassifier (RFC) performed.\n",
    "    - Even when comparing the Precision and Recall scores, we see that neither model (VotingClassifier or RFC) were clear \"winners\".\n",
    "    - Note that including a larger and more diverse amount of estimators could greatly improve this model.\n",
    "_________\n",
    "# Bagging:\n",
    "___________\n",
    "In this section, I experiment the use of bagging with my RandomForestClassifier parameters"
   ]
  },
  {
   "cell_type": "code",
   "execution_count": 20,
   "id": "express-biotechnology",
   "metadata": {
    "ExecuteTime": {
     "end_time": "2021-03-12T10:25:32.596876Z",
     "start_time": "2021-03-12T10:23:57.285066Z"
    }
   },
   "outputs": [
    {
     "name": "stdout",
     "output_type": "stream",
     "text": [
      "Weighted F1 -> Mean: 0.797  |  Std: 0.006\n",
      "recall      -> Mean: 0.734  |  Std: 0.006\n",
      "precision   -> Mean: 0.559  |  Std: 0.012\n"
     ]
    }
   ],
   "source": [
    "np.random.seed(1)\n",
    "\n",
    "bag = BaggingClassifier(rfc_clf,\n",
    "                        n_estimators=11,\n",
    "                        max_samples=0.8,\n",
    "                        max_features=0.9,\n",
    "                        oob_score=True)\n",
    "\n",
    "bagging_pipe = Pipeline([('preprocessing', preprocessing),\n",
    "                         ('model', bag)])\n",
    "\n",
    "# Use Cross_val_score to see how well my model performs:\n",
    "scores = []\n",
    "\n",
    "scores.append(cross_val_score(bagging_pipe, X, y, cv=5, scoring='f1_weighted'))\n",
    "scores.append(cross_val_score(bagging_pipe, X, y, cv=5, scoring='recall'))\n",
    "scores.append(cross_val_score(bagging_pipe, X, y, cv=5, scoring='precision'))\n",
    "\n",
    "names = ['Weighted F1', 'recall', 'precision']\n",
    "for score, name in zip(scores, names):\n",
    "    print_val_score(score, name)"
   ]
  },
  {
   "cell_type": "markdown",
   "id": "advisory-spending",
   "metadata": {},
   "source": [
    "## Bagging Results:\n",
    "    - Similarly to VotingClassifier, the Bagging did not substantially improve the model's performance, nor did it decrease the model's standard deviation. I am sure with more hyper-parameter tuning I can improve upon this model.\n",
    "    \n",
    "_______\n",
    "# Boosting\n",
    "In this section, will look at implementing a gradient boosting machine, specifically using a GradientBoostingClassifier as my final estimator in my StackingClassifier.\n",
    "\n",
    "__________\n",
    "### GradientBoostingClassifier"
   ]
  },
  {
   "cell_type": "code",
   "execution_count": 21,
   "id": "severe-chance",
   "metadata": {
    "ExecuteTime": {
     "end_time": "2021-03-12T10:29:24.491761Z",
     "start_time": "2021-03-12T10:25:32.598821Z"
    }
   },
   "outputs": [
    {
     "name": "stdout",
     "output_type": "stream",
     "text": [
      "f1_weighted -> Mean: 0.801  |  Std: 0.005\n",
      "recall      -> Mean: 0.641  |  Std: 0.009\n",
      "precision   -> Mean: 0.589  |  Std: 0.014\n"
     ]
    }
   ],
   "source": [
    "np.random.seed(1)\n",
    "\n",
    "final_estimator = GradientBoostingClassifier()\n",
    "\n",
    "estimators = [('rfc', pipe1),\n",
    "              ('lr', pipe2),\n",
    "              ('etc', pipe3),\n",
    "              ('rfc2', pipe4)]\n",
    "\n",
    "\n",
    "boosted_stack = StackingClassifier(estimators=estimators,\n",
    "                        final_estimator=final_estimator,\n",
    "                         n_jobs=-1)\n",
    "\n",
    "\n",
    "\n",
    "# Use Cross_val_score to see how well my model performs:\n",
    "scores = []\n",
    "\n",
    "scores.append(cross_val_score(boosted_stack, X, y, cv=5, scoring='f1_weighted'))\n",
    "scores.append(cross_val_score(boosted_stack, X, y, cv=5, scoring='recall'))\n",
    "scores.append(cross_val_score(boosted_stack, X, y, cv=5, error_score='raise', scoring='precision'))\n",
    "\n",
    "names = ['f1_weighted', 'recall', 'precision']\n",
    "for score, name in zip(scores, names):\n",
    "    print_val_score(score, name)"
   ]
  },
  {
   "cell_type": "markdown",
   "id": "mysterious-durham",
   "metadata": {},
   "source": [
    "## Ensemble Model Results:\n",
    "\n",
    "1. VotingClassifier():\n",
    "    - Using RandomForestClassifier, LogisticRegression, and ExtraTreesClassifier, this strategy yielded similar results to my initial RandomForestClassifier.\n",
    "    - Note that I used a 'soft' scoring since every one of my models include probabilities to serve as a metric of confidence in a prediction.\n",
    "    - I decided to not use this method for my final model because it did not perform significantly better than my initial model.\n",
    "    \n",
    "    \n",
    "2. Bagging:\n",
    "    - Similarly, the results of using a BaggingClassifier was fairly similar to the simple RandomForestClassifier.\n",
    "    - I decided to not use this model for my final model.\n",
    "\n",
    "\n",
    "3. GradientBoostingClassifier():\n",
    "    - This strategy, using a GradientBoostingClassifier as my final_estimator in a StackingClassifier gave me my best Weighted F1 score. That being said, its recall was almost 10% less than the other estimators with a marginally better precision score. \n",
    "___________"
   ]
  },
  {
   "cell_type": "markdown",
   "id": "current-invention",
   "metadata": {},
   "source": [
    "# Final Model Selection <a id='final_model'></a>\n",
    "___________\n",
    "Although I briefly looked at some ensemble techniques, I decided to stick with my original RandomForestClassifier **(RFC)** because of it's simultaneously high F! weighted score and recall. In addition, the RFC, compared to the ensemble techniques trained much quicker.\n",
    "_______\n",
    "## Specifications of the Final Model:\n",
    "\n",
    "\n",
    "Our final model is a **RandomForestClassifier** with the following hyperparameters:\n",
    "\n",
    "```python\n",
    "RandomForestClassifier(bootstrap=False,  # No bootstrapping\n",
    "                       class_weight='balanced',  # Good because our data is imbalanced\n",
    "                       min_samples_leaf=4,  # Increasing can improve generalizability if we are overfitting\n",
    "                       n_estimators=83,  # Plenty of trees to train\n",
    "                       n_jobs=-1)\n",
    "\n",
    "```\n",
    "\n",
    "    - Note that since bootstrap=False, this model is training 83 decision trees with all the available data.\n",
    "_________\n",
    "\n",
    "**But wait, there's more!**\n",
    "In order to fit our RandomForestClassifier on the data, we needed to first include our preprocessing steps.\n",
    "\n",
    "This involved:\n",
    "   1. Using OneHotEncoding on all categorical features after imputing \"missing\" values anywhere the data is not collected.\n",
    "   \n",
    "```python\n",
    "cat_pipe = Pipeline([(\"impute\", SimpleImputer(missing_values=np.nan, \n",
    "                                              fill_value='missing', \n",
    "                                              strategy=\"constant\")),\n",
    "                     (\"encode\", OneHotEncoder())])\n",
    "\n",
    "```\n",
    "   2. Use IterativeImputer for the numerical values, scale them, and then change their distribution into a Gaussian one.\n",
    "   \n",
    "```python\n",
    "num_pipe = Pipeline([(\"impute\", IterativeImputer(missing_values=np.nan, \n",
    "                                                 max_iter=10, \n",
    "                                                 initial_strategy=\"median\")),\n",
    "                     (\"scaler\", StandardScaler()),\n",
    "                     (\"transformer\", QuantileTransformer(output_distribution='normal'))])\n",
    "\n",
    "```\n",
    "   3. Grouping them together with a ColumnTransformer().\n",
    "```python\n",
    "preprocessing = ColumnTransformer([(\"categorical\", cat_pipe, cat_cols),\n",
    "                                   (\"numerical\", num_pipe, num_cols)]) \n",
    "\n",
    "\n",
    "_____\n",
    "## Evaluating the Final Model <a id='results'></a>\n",
    "Now that we have a final model, we can:\n",
    "   1. Predict on the test set and see what our Weighted F1 score is.\n",
    "   2. Look at the confusion matrix of our predictions as well.\n",
    "   3. Look at some feature importance since we are using a Tree-based algorithm.\n",
    "_______\n",
    "**First**, we need to load in our testing data."
   ]
  },
  {
   "cell_type": "code",
   "execution_count": 22,
   "id": "collect-associate",
   "metadata": {
    "ExecuteTime": {
     "end_time": "2021-03-12T10:36:51.270906Z",
     "start_time": "2021-03-12T10:36:51.258285Z"
    }
   },
   "outputs": [],
   "source": [
    "X_test = pd.read_csv('HR_Analytics/aug_test.csv')\n",
    "y_test = np.load('HR_Analytics/aug_test_y.npy')"
   ]
  },
  {
   "cell_type": "markdown",
   "id": "synthetic-status",
   "metadata": {},
   "source": [
    "### 1. Train our model on all of the training data and then see how it performs on the test data"
   ]
  },
  {
   "cell_type": "code",
   "execution_count": 23,
   "id": "smart-ecology",
   "metadata": {
    "ExecuteTime": {
     "end_time": "2021-03-12T10:36:56.042600Z",
     "start_time": "2021-03-12T10:36:54.617515Z"
    }
   },
   "outputs": [],
   "source": [
    "np.random.seed(1)  # Consistent results\n",
    "\n",
    "# Final Model\n",
    "final_model =  RandomForestClassifier(bootstrap=False, \n",
    "                                  class_weight='balanced',\n",
    "                                  min_samples_leaf=4, \n",
    "                                  n_estimators=83,\n",
    "                                  n_jobs=-1)\n",
    "\n",
    "\n",
    "# Different pipelines\n",
    "pipe = Pipeline([('preprocessing', preprocessing),\n",
    "                  ('model', final_model)])\n",
    "\n",
    "pipe.fit(X,y);"
   ]
  },
  {
   "cell_type": "code",
   "execution_count": 24,
   "id": "african-briefs",
   "metadata": {
    "ExecuteTime": {
     "end_time": "2021-03-12T10:36:57.593662Z",
     "start_time": "2021-03-12T10:36:57.495739Z"
    }
   },
   "outputs": [
    {
     "name": "stdout",
     "output_type": "stream",
     "text": [
      "Weighted f1_Score = 0.796\n"
     ]
    }
   ],
   "source": [
    "y_pred = pipe.predict(X_test)\n",
    "print(f\"Weighted f1_Score = {f1_score(y_test, y_pred, average='weighted'):.3f}\")"
   ]
  },
  {
   "cell_type": "markdown",
   "id": "creative-chocolate",
   "metadata": {},
   "source": [
    "**Result**: As we can see, our model has a **weighted f1-score of 0.796** on our testing set, which is around the same as the training set. This is a good sign because it can imply that our model might not have been overfit on the training and that it generalizes on new data just as well as data it was trained on. It also implies that our test and train data most likely come from the same distribution.\n",
    "__________\n",
    "### 2. View the confusion matrix of our predictions and calculate the accuracy, recall and precision scores."
   ]
  },
  {
   "cell_type": "code",
   "execution_count": 27,
   "id": "welsh-dakota",
   "metadata": {
    "ExecuteTime": {
     "end_time": "2021-03-12T10:37:39.386740Z",
     "start_time": "2021-03-12T10:37:39.178629Z"
    }
   },
   "outputs": [
    {
     "name": "stdout",
     "output_type": "stream",
     "text": [
      "Recall Score: 0.72  |  Precision Score: 0.59  |  f1 Weighted Score: 0.80\n"
     ]
    },
    {
     "data": {
      "image/png": "[encoded data removed]",
      "text/plain": [
       "<Figure size 432x288 with 2 Axes>"
      ]
     },
     "metadata": {
      "needs_background": "light"
     },
     "output_type": "display_data"
    }
   ],
   "source": [
    "np.random.seed(1)\n",
    "plot_confusion_matrix(pipe, \n",
    "                      X_test, \n",
    "                      y_test,\n",
    "                      display_labels=['Not Looking', 'Looking for Work']);\n",
    "\n",
    "\n",
    "rec = recall_score(y_test, y_pred)\n",
    "prec = precision_score(y_test, y_pred)\n",
    "\n",
    "print(f\"Recall Score: {rec:.2f}  |  Precision Score: {prec:.2f}\",\\\n",
    "     f\" |  f1 Weighted Score: {f1_score(y_test, y_pred, average='weighted'):.2f}\");"
   ]
  },
  {
   "cell_type": "markdown",
   "id": "suffering-fruit",
   "metadata": {},
   "source": [
    "#### Interpretation:\n",
    "1. Looking at the confusion matrix, we see that our model did fairly well. In particular, our model misclassified only 18% of individuals not looking for work, and 27% of individuals looking for work.\n",
    "\n",
    "\n",
    "2. In particular, our precision score was 59%, which means that **\"When my model predicted someone to be Looking for Work, it was accurate 59% of the time.\"**. Although this isn't an amazing score, it can still be useful for a variety of potential business cases. In the narrative that we are using this model to help better allocate the time of our recruiters, having a 59% chance that every candidate the recruiter is talking to is looking for a job, can be a huge time saver. This is compared to not using the model and having only a 25% chance of reaching out to someone at random and them currently looking for work.\n",
    "\n",
    "\n",
    "3. In addition, we can look at the recall score. At 72%, this means that **\"When an individual was looking for work, our model accurately classified them 72% of the time.\"** This is also an important metric for the above business situation. In particular, we would want to minimize our False Negatives, aka: when our model inaccurately predicts someone who is looking for work. For the business, they may want a high recall in order to avoid missing out on good candidates.\n",
    "\n",
    "\n",
    "4. All together, we can look at the weighted f1 score of **80%** because our business case revolves around maximizing both precision and recall. Note that since this is an imbalanced dataset, our f1 score calculates the metric for each label, weighs it proportionally to its relative frequency, and outputs a score that, in this case, is not in-between the recall and precision score. \n",
    "______\n",
    "### 3. Feature Importance.\n",
    "For interpretability, it is always important to try to extract feature importance from a model. In other words, what features were deemed the \"most important\" for our model. For this task, I use sklearn's built-in permutation_importance over 100 iterations"
   ]
  },
  {
   "cell_type": "code",
   "execution_count": 63,
   "id": "oriented-combine",
   "metadata": {
    "ExecuteTime": {
     "end_time": "2021-03-12T10:58:43.301754Z",
     "start_time": "2021-03-12T10:57:06.346642Z"
    }
   },
   "outputs": [
    {
     "name": "stdout",
     "output_type": "stream",
     "text": [
      "         Feature           Mean       std     \n",
      "----------------------------------------------\n",
      "city_development_index    0.09  +/- 0.01\n",
      "city                      0.04  +/- 0.00\n",
      "company_size              0.02  +/- 0.00\n",
      "major_discipline          0.02  +/- 0.00\n",
      "education_level           0.01  +/- 0.00\n",
      "company_type              0.01  +/- 0.00\n",
      "last_new_job              0.01  +/- 0.00\n",
      "relevent_experience       0.00  +/- 0.00\n",
      "enrolled_university       0.00  +/- 0.00\n",
      "gender                    0.00  +/- 0.00\n",
      "enrollee_id               0.00  +/- 0.00\n",
      "experience                -0.00  +/- 0.00\n",
      "training_hours            -0.00  +/- 0.00\n"
     ]
    }
   ],
   "source": [
    "np.random.seed(1)\n",
    "\n",
    "r = permutation_importance(pipe, X_test, y_test,\n",
    "                           n_repeats=100)\n",
    "\n",
    "'''\n",
    "Code Source: https://scikit-learn.org/stable/modules/permutation_importance.html\n",
    "'''\n",
    "print(f\"{'Feature':^25}{'Mean':^8}{'std':^13}\")\n",
    "print('-'*(25+8+13))\n",
    "for i in r.importances_mean.argsort()[::-1]:\n",
    "    print(f\"{X.columns[i]:<25}\",\\\n",
    "          f\"{r.importances_mean[i]:.2f}\",\\\n",
    "          f\" +/- {r.importances_std[i]:.2f}\")"
   ]
  },
  {
   "cell_type": "markdown",
   "id": "christian-playback",
   "metadata": {},
   "source": [
    "#### Results:\n",
    "1. Interestingly enough, it looks like the city_development_index is the most impactful when making this prediction. In order to better understand the relationship between city_development_index and the target variable, it is helpful to look at a quick plot:\n",
    "\n",
    "<img src=\"Images/EDA_City_Development_Index.png\" alt=\"Drawing\" style=\"width: 400px;\"/>\n",
    "\n",
    "2. As we can see, it looks like as the city_development_index increases, people are less likely to be looking for a job. This makes sense as a higher city development index could mean that people are more content with their current location. Note that this assumes that looking for work tends to be a factor of location as well as things related to your current job (job type, company size, etc). In addition, this graph could be interpreted on the flip-side. People in cities with a low development index are much more likely to be seeking a new job.\n",
    "\n",
    "3. Besides city_development_index, the city, company_size and major_discipline also had a relatively high impact.\n",
    "\n",
    "_________\n",
    "# Conclusion: <a id='conclusion'></a>  \n",
    "\n",
    "## Summary:\n",
    "With a goal of implementing a variety of skills learned in my Machine Learning Lab, this project focused on HR data to help identify whether or not someone is currently looking for a job. After extensive EDA, I decided to construct three separate pipelines for preprocessing: one for each type of feature (numerical, categorical, ordinal). Next, although my data was imbalanced, I decided against using oversampling with SMOTE because it didn't lead to a noticeable improvement (as shown with cross validation). Finally, I tried several of ensemble techniques and decided that my final model would be the original RandomForestClassifier that I found in my RandomizedSearchCV. Note that I used a weighted f1 score as my metric to compare models with as it equally values precision and recall scores while taking into consideration that the data is imbalanced.\n",
    "\n",
    "## Common Questions:\n",
    "1. **Why does any of this matter?**\n",
    "    - **I am glad you asked!** Although this project was primarily as a tool to explore different modeling methods on fairly clean data, we did it in a way focusing on a hypothetical scenario where this data would be used. This is helpful when working on actual business problems, because it is important to iterative over different models and have a consistent and **relevant** metric that we compare each model with. This metric is relevant to the business use-case.\n",
    "\n",
    "\n",
    "2. **Why did I impute categorical variables to be \"missing\" instead of \"most_frequent\"?**\n",
    "   - I chose to do this because imputing the most_frequent can add bias to our model. In essence, we are assuming that the entry was empty because of a clerical error, which could, in itself, have an impact on our target variable. One could argue that me imputing \"missing\" could be adding my own bias that these weren't just clerical errors and have an equally negative impact on our model. In the end, it was personal preference.\n",
    "   - **Follow up: Why did I not impute missing for numerical as well?**\n",
    "       - With numerical data, we need slightly different imputing strategies. This is because we want our end result to be all numerical. Therefore, I chose to use an IterativeImputer which I explain below.\n",
    "\n",
    "\n",
    "\n",
    "3. **Why did I use an IterativeImputer for my numerical data?**\n",
    "    - This decision was made primarily because I did not want to have a single rule of only imputing the median. Instead, an IterativeImputer works in the following way:\n",
    "        - Say you have 4 columns ('a', 'b', 'c', 'd') and one column ('d') is missing some values. An iterative imputer will train a new model trying to predict the missing values in 'd' with the values in ('a', 'b', 'c').\n",
    "\n",
    "\n",
    "5. **Why did I use a QuantileTransformer on my numerical data?**\n",
    "    - [\"Many machine learning algorithms prefer or perform better when numerical variables have a Gaussian or standard probability distribution.\"](https://machinelearningmastery.com/quantile-transforms-for-machine-learning/). In particular, I included a LogisticRegression model in my RandomizedSearchCV which assumes that the data is normalized.\n",
    "\n",
    "\n",
    "6. **Why did I use cross_val_score?**\n",
    "    - I decided to use cross_val_score because I felt that it was a better route of getting a good sense of how well a model performs in order to properly compare it to other modeling strategies. In addition, it was a quick way to compare different metrics like Recall and Precision to visualize the trade-off between models.\n",
    "    \n",
    "    \n",
    "7. **Why did neither of my Ensemble Techniques lead to a significantly better model?**\n",
    "   - A lot of this has to do with fine tuning these models. For example:\n",
    "       - The VotingClassifier could potentially do much better if I spend more time deciding which (and how many) models to include. In addition, there are hyper-parameters that come with this model that could also be tweaked within a RandomizedSearchCV.\n",
    "       - The BaggingClassifier could also be tweaked more since I did not experiment iteratively through different parameter ranges.\n",
    "       - The Boosting probably has the most potential for success, but again, it involves extensive tweaking of hyper parameters and model selection.\n",
    "\n",
    "\n",
    "\n",
    "\n",
    "## Future Steps\n",
    "1. As Boosting has taken Kaggle competitions by stride, it would be interesting to see more exploration on how boosting can further improve this model. In particular, I am interested to see how XGBoost and CatBoost can be used to solve this problem.\n",
    "2. Further exploration on other feature engineering techniques that could improve predictability.\n",
    "3. Exploring other approaches for counteracting imbalanced datasets."
   ]
  }
 ],
 "metadata": {
  "kernelspec": {
   "display_name": "Python 3",
   "language": "python",
   "name": "python3"
  },
  "language_info": {
   "codemirror_mode": {
    "name": "ipython",
    "version": 3
   },
   "file_extension": ".py",
   "mimetype": "text/x-python",
   "name": "python",
   "nbconvert_exporter": "python",
   "pygments_lexer": "ipython3",
   "version": "3.8.5"
  }
 },
 "nbformat": 4,
 "nbformat_minor": 5
}
