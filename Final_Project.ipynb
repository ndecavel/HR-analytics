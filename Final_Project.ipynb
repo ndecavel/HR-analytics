{
 "cells": [
  {
   "cell_type": "markdown",
   "id": "wound-notebook",
   "metadata": {},
   "source": [
    "# Table of Contents:\n",
    "1. [Data](#data)\n",
    "\n",
    "1. [Feature Engineering](#feature_engineering)\n",
    "\n",
    "1. [Algorithms & Search](#alg_search)\n",
    "\n",
    "1. [Evaluation Metrics](#metrics)\n",
    "\n",
    "1. [Ensemble Learning](#ensemble)\n",
    "\n",
    "1. [Final Model Selection and Evaluation](#final_model)\n",
    "\n",
    "1. [Results](#results)\n",
    "\n",
    "1. [Conclusion](#conclusion)"
   ]
  },
  {
   "cell_type": "code",
   "execution_count": 1,
   "id": "going-sample",
   "metadata": {
    "ExecuteTime": {
     "end_time": "2021-03-10T08:53:38.181150Z",
     "start_time": "2021-03-10T08:53:36.669761Z"
    }
   },
   "outputs": [],
   "source": [
    "# Imports\n",
    "import  numpy   as np\n",
    "import  pandas  as pd\n",
    "import  warnings\n",
    "warnings.filterwarnings('ignore')\n",
    "\n",
    "\n",
    "# Feature Engineering\n",
    "from    category_encoders          import OneHotEncoder, OrdinalEncoder\n",
    "from    sklearn.experimental       import enable_iterative_imputer\n",
    "from    sklearn.impute             import IterativeImputer, SimpleImputer\n",
    "from    sklearn.base               import TransformerMixin\n",
    "from    sklearn.base               import BaseEstimator\n",
    "from    sklearn.preprocessing      import QuantileTransformer, StandardScaler\n",
    "from    sklearn.compose            import ColumnTransformer\n",
    "\n",
    "# Cross Validation and PipeLine\n",
    "from    sklearn.model_selection    import RandomizedSearchCV, cross_val_score\n",
    "from    sklearn.pipeline           import Pipeline\n",
    "\n",
    "# Models\n",
    "from    sklearn.ensemble           import RandomForestClassifier, ExtraTreesClassifier, StackingClassifier, \\\n",
    "                                          GradientBoostingClassifier, BaggingClassifier, VotingClassifier\n",
    "from    sklearn.neighbors          import KNeighborsClassifier\n",
    "from    sklearn.linear_model       import LogisticRegression, SGDClassifier\n",
    "from    sklearn.svm                import LinearSVC\n",
    "\n",
    "# Model Evaluation\n",
    "from    sklearn.metrics            import balanced_accuracy_score, f1_score, plot_confusion_matrix, precision_score, recall_score,accuracy_score\n",
    "from    sklearn.inspection         import permutation_importance\n"
   ]
  },
  {
   "cell_type": "markdown",
   "id": "upset-threshold",
   "metadata": {},
   "source": [
    "# Hypothetical Scenario:\n",
    "____\n",
    "You are working as a data scientist in a recruiting firm. The goal of a recruiter in this firm is to successfully help someone, who is looking for a new job, get hired. However, the current system in place involves recruiters to randomly reach out to people on their list. This is an issue because only a third of the people on the list are actually looking for work. This leads to the recruiter wasting a large chunk of their time reaching out to dead-ends. How can you, as a data scientist, help better allocate the recruiter's time to focus primarily on people who are looking for a job?\n",
    "_____\n",
    "# Research Question:\n",
    "_____\n",
    "**Given information about an individual, can we predict whether or not they are currently looking for a new job?**\n",
    "_________\n",
    "\n",
    "\n",
    "# Data <a id='data'></a>\n",
    "_________\n",
    "**Note that our data is imbalanced. 33% of the observations have the target = 1.**\n",
    "\n",
    "The data we will be looking at includes 11 different features:\n",
    "#### Numerical Columns:\n",
    "1. ```city_development_index``` : Float from 0-1\n",
    "2. ```training_hours```: Number of hours trained\n",
    "\n",
    "#### Categorical:\n",
    "1. ```city```: 123 diff cities\n",
    "2. ```gender```: 4 genders: 'Male', 'Female', 'Other', nan\n",
    "\n",
    "\n",
    "#### Ordinal Categorical:\n",
    "1.  ```enrolled_university```: 'no_enrollment', 'Full time course', nan, 'Part time course'\n",
    "2.  ```education_level```: 'Graduate', 'Masters', 'High School', nan, 'Phd', 'Primary School'\n",
    "3. ```company_size```: nan, '50-99', '<10', '10000+', '5000-9999', '1000-4999', '10/49','100-500', '500-999'\n",
    "3. ```relevent_experience```: 'Has relevent experience', 'No relevent experience'\n",
    "6. ```major_discipline```: 'STEM', 'Business Degree', nan, 'Arts', 'Humanities', 'No Major', 'Other'\n",
    "8. ```last_new_job```: nan, 'never', 1,2,3,4, >4\n",
    "7. ```company_type```: 'Early Stage Startup', 'Funded Startup', 'NGO', 'Other', 'Public Sector', 'Pvt Ltd', nan\n",
    "4. ```last_new_job```: nan, 'never', 1,2,3,4, >4\n",
    "\n",
    "#### Numerical/Categorical\n",
    "1. ```experience```:  nan, <1, 1 through 20, >20\n",
    "\n",
    "#### Target\n",
    "1. ```target```: 1 = \"Looking for a Job\", 0 = \"Not Looking for a Job\"\n",
    "__________"
   ]
  },
  {
   "cell_type": "code",
   "execution_count": 2,
   "id": "moved-money",
   "metadata": {
    "ExecuteTime": {
     "end_time": "2021-03-10T08:53:38.230099Z",
     "start_time": "2021-03-10T08:53:38.183791Z"
    }
   },
   "outputs": [
    {
     "data": {
      "text/plain": [
       "((19158, 13), (19158,))"
      ]
     },
     "execution_count": 2,
     "metadata": {},
     "output_type": "execute_result"
    }
   ],
   "source": [
    "df = pd.read_csv('HR_Analytics/aug_train.csv')\n",
    "y = df['target']  # Keep target in X for preprocessing\n",
    "X = df.drop('target', axis=1)\n",
    "X.shape, y.shape"
   ]
  },
  {
   "cell_type": "markdown",
   "id": "entire-jonathan",
   "metadata": {},
   "source": [
    "# Feature Engineering and Preprocessing Pipeline <a id='feature_engineering'></a>\n",
    "   ____________\n",
    "For this model, we divide our features into 2 main categories: Numerical and Categorical. This is in order to create a preprocessing pipeline that could correctly deal with missing values **in an appropriate way**. \n",
    "- **Categorical Preprocessing:** \n",
    "    1. The first step in this pipeline is to use a **```SimpleImputer```** to fill in the missing values (np.NaN) with \"missing\". Although there are many other strategies to use when filling in missing values, there could be underlying reasons in the data collection why an observation has missing data. Therefore, to simply fill in the missing values with the most_frequent of the data would be adding bias from us, the researcher. Without knowing more about why these values are np.nan, we can just fill in the value with \"missing\" for categorical features. \n",
    "    2. We then pipe this into a **```OneHotEncoder```** in order to encode each variable's values as a separate binary column.\n",
    "    3. Note that after further testing, I've decided to OneHotEncode the ordinal features as well. I did not notice an impact on the model itself when mapping the ordinal features individually to their relative values.\n",
    "    4. Note that after some EDA, I have noticed that some of the categorical features can be encoded with the OrdinalEncoder. However, this means that I need to create a custom class in order to properly label my features such that the OrdinalEncoder object can encode they way I envision (the default is alphabetically).\n",
    "    \n",
    "    \n",
    "    \n",
    "- **Numerical Preprocessing:**\n",
    "    1. Instead of using a SimpleImputer, I choose to use an **```IterativeImputer```** instead. The IterativeImputer tries to mimic R's MICE package (Multivariate Imputation by Chained Equations). I decided to use this because I felt that it would be a better solution than the SimpleImputer because:\n",
    "        1. Can't fill in the values with \"missing\" since that affects the pipeline when trying to standardize the columns.\n",
    "        2. It is a step in dealing with the problem of increased noise due to imputation [source = https://en.wikipedia.org/wiki/Imputation_(statistics)]\n",
    "    2. Next, we use a **```StandardScalar```** to normalize our data. Due to the fact that neither of my numerical columns have any severe outliers, this is preferred over a RobustScalar. In addition, the normalizing helps bring both features within a similar range.\n",
    "    3. Finally, due to the fact that many ML algorithms can perform better when the numerical features have a Gaussian distribution, we use a **```QuantileTransformer```**\n",
    "\n",
    "_________"
   ]
  },
  {
   "cell_type": "code",
   "execution_count": 3,
   "id": "abstract-bangladesh",
   "metadata": {
    "ExecuteTime": {
     "end_time": "2021-03-10T08:53:38.238012Z",
     "start_time": "2021-03-10T08:53:38.231810Z"
    }
   },
   "outputs": [],
   "source": [
    "class OrdinalHelper(BaseEstimator, TransformerMixin):\n",
    "    \"\"\"Changes the name of the values in the ordinal columns so that\n",
    "       OrdinalEncoder can be used in our pipeline. (Which defaults to \n",
    "       alphabetical and there isn't an easy way to add a mapping per\n",
    "       column)\"\"\"\n",
    "    def __init__(self):\n",
    "        pass\n",
    "    \n",
    "    def fit(self, X, y=None):\n",
    "        '''\n",
    "        Given our data, return a dictionary where the keys are the column\n",
    "        names and the values are the mapping dictionary for that column.\n",
    "        The mapping dictionary will first organize each columns unique values\n",
    "        by the percent of them that result in target==1. Then it will assign \n",
    "        a new name for each unique value relative to its rank. This is because\n",
    "        using OrdinalEncoder in a Pipeline defaults to sorting the unique values\n",
    "        alphabetically.\n",
    "        '''\n",
    "        # Use the training data (always)\n",
    "        temp_X = pd.read_csv('HR_Analytics/aug_train.csv')\n",
    "        # Get only the columns we care about\n",
    "        global ord_cols\n",
    "        col_needed = ord_cols + ['target']\n",
    "        temp_X = temp_X[col_needed]\n",
    "        # Need to impute it here (There are some redundancies in my code, but this was the \n",
    "        # simplest way to make sure that I wasn't doing any data leakage in my final model)\n",
    "        sc = SimpleImputer(missing_values=np.nan, fill_value='missing', strategy=\"constant\")\n",
    "        temp_X = sc.fit_transform(temp_X)\n",
    "        temp_X = pd.DataFrame(temp_X)#\n",
    "        # Create mapping scheme\n",
    "        ordinal_col_mapping = []\n",
    "        name_mapping = {}\n",
    "        for col in temp_X.columns[:-1]:\n",
    "            temp_dic = {}\n",
    "            temp_dic['col'] = col\n",
    "            val_count = []  # Set of unique value, count in X[col]\n",
    "            for val in temp_X[col].unique():\n",
    "                # Get the P(target=1|X[col]==val)\n",
    "                target_true = np.sum(temp_X.loc[np.where(temp_X[col] == val)][len(temp_X.columns)-1])\\\n",
    "                                /len(temp_X.loc[np.where(temp_X[col] == val)][len(temp_X.columns)-1])\n",
    "                val_count.append((val, target_true))\n",
    "            # Sort val_count (ascending):\n",
    "            val_count.sort(key=lambda x: x[1])\n",
    "            mapping = {}\n",
    "            for index, tup in enumerate(val_count):\n",
    "                mapping[tup[0]] = chr(97+index) + tup[0]\n",
    "            name_mapping[col] = mapping\n",
    "        self.mapping = name_mapping\n",
    "        return self\n",
    "\n",
    "\n",
    "    def transform(self, X, y=None):\n",
    "        for row_index, row in enumerate(X):\n",
    "            for col_index, val in enumerate(row):\n",
    "                X[row_index, col_index] = self.mapping[col_index][val]\n",
    "        return X"
   ]
  },
  {
   "cell_type": "code",
   "execution_count": 4,
   "id": "individual-joining",
   "metadata": {
    "ExecuteTime": {
     "end_time": "2021-03-10T08:53:38.243435Z",
     "start_time": "2021-03-10T08:53:38.239363Z"
    }
   },
   "outputs": [],
   "source": [
    "# Our categorical column we want to OneHotEncoder\n",
    "cat_cols = ['city', 'gender'] \n",
    "\n",
    "\n",
    "ord_cols = ['enrolled_university', 'major_discipline', 'experience', 'last_new_job', \n",
    "            'company_type', 'company_size', 'education_level', 'relevent_experience']\n",
    "\n",
    "# Our numerical columns\n",
    "num_cols = ['city_development_index', 'training_hours']\n",
    "\n",
    "\n",
    "# Ordinal Pipeline\n",
    "ord_pipe = Pipeline([(\"impute\", SimpleImputer(missing_values=np.nan, fill_value='missing', strategy=\"constant\")),\n",
    "                     (\"encode\", OrdinalHelper()),\n",
    "                     ('ordinal', OrdinalEncoder(handle_unknown='ignore'))])\n",
    "\n",
    "# Categorical Pipeline\n",
    "cat_pipe = Pipeline([(\"impute\", SimpleImputer(missing_values=np.nan, fill_value='missing', strategy=\"constant\")),\n",
    "                     (\"encode\", OneHotEncoder())])\n",
    "\n",
    "\n",
    "# Numerical Pipeline\n",
    "num_pipe = Pipeline([(\"impute\", IterativeImputer(missing_values=np.nan, max_iter=10, initial_strategy=\"median\")),\n",
    "                        (\"scaler\", StandardScaler()),\n",
    "                     (\"transformer\", QuantileTransformer(output_distribution='normal'))])\n",
    "\n",
    "# Group them together with ColumnTransformer\n",
    "preprocessing = ColumnTransformer([('categorical', cat_pipe, cat_cols),\n",
    "                                   ('ordinal', ord_pipe, ord_cols),\n",
    "                                   ('numerical', num_pipe, num_cols)])\n",
    "\n"
   ]
  },
  {
   "cell_type": "markdown",
   "id": "suitable-constitution",
   "metadata": {},
   "source": [
    "# Algorithms & Search <a id='alg_search'></a>\n",
    "_______\n",
    "For this section, I chose a few algorithms to include in my __```RandomizedSearchCV```__:\n",
    "   1. **```RandomForestClassifier```**\n",
    "       1. Why: This was a ML model that I learned in my Intro to ML class. It seemed like a very good contester for this problem because it uses multiple decision trees (that individually tend to overfit on training data) and aggregates their predictions in order to decrease the variance of the model.\n",
    "       2. Hyperparamater Tuning:\n",
    "           - **Min Samples Leaf**: ```np.linspace(1,30,4)```\n",
    "               - Min samples per leaf is a good hyperparameter to help each decision tree make more generalizable predictions. Note that the default is 1, which can lead to decision trees overfitting to the training data.\n",
    "           - **Bootstrap**: ```[True, False]```\n",
    "               - When Bootstrap is True, it means that each decision tree is shown a sample of the training data. This is an attempt to create \"dumber\" decision trees in order to have a better, generalized model. Note that this parameter is dependent on **max_samples** which we set to a small k (between 5 and 20). \n",
    "           - **Class Weight**: ```[None, 'balanced', 'balanced_subsample']```\n",
    "               - Since our data is imbalanced, we want to include a variety of class_weights. Note that our SMOTE preprocessing step helps correct for this imbalance already. Therefore, I can expect the ideal class_weight to be None. This is more so a sanity check for me. \n",
    "           - **Number of Estimators**: ```np.linspace(50,500,4)```\n",
    "              - Here I choose a variety of different number of estimators. These represent the number of decision trees that make up our \"RandomForest\". The larger the number can potentially lead to decreasing the variance of our model. \n",
    "              \n",
    "              \n",
    "   2. **```LinearSVC```**\n",
    "       1. Why: Since this is a binary problem (we are predicting 1s and 0s), SVM can perform better than RandomForests (which is intrinsically situated for multi-class problems). In addition, SVM models can also have an advantage to more sparse data, which, with the OneHotEncoder, could prove to be useful. Finally, I decided to use a LinearSVC because it trains much quicker than the traditional SVC.\n",
    "           ![As we can see in the above image, SVC is extremely slow](Images/SGD_Comparison.png)\n",
    "                               - As we can see in the above image, SVC is extremely slow\n",
    "       \n",
    "       2. Hyperparameter Tuning:\n",
    "           - **Class Weight**: ```['balanced', None]```\n",
    "               - Similarly to my decision in RFClassification, I include both 'balanced' and None for the class weight of my SVC model\n",
    "           - **C**: ```np.linspace(0.001, 10, 10)```\n",
    "               - In an attempt to test different regularization weights, I set C to values between 1 and 100.\n",
    "       \n",
    "       \n",
    "   3. **```KNeighborsClassifier```**\n",
    "       1. Why: I included KNN because I felt like it was a fairly different algorithm from the Trees and could be interesting to see how it performs. \n",
    "       2. Hyperparameter Tuning:\n",
    "           - **Number of Neighbors**: ```np.linspace(3, 13, 3)```\n",
    "               - Tweaking the number of neighbors impacts the amount of neighbors we need to look at before classifying our observation.\n",
    "           - **Weights**: ```['uniform', 'distance']```\n",
    "               - Distance: Closer neighbors will have a higher influence on the classification than further neighbors.\n",
    "               - Uniform: Both close and far neighbors have the same weight.\n",
    "           - **p**: ```[1,2]```\n",
    "               - p = 1 -> Manhattan Distance\n",
    "               - p = 2 -> Euclidean distance\n",
    "               \n",
    "               \n",
    "   4. **```ExtraTreesClassifier```**\n",
    "       1. Why: This has a much faster implementation than RandomForestClassifier. This is due to the fact that ExtraTrees chooses its split point threshold's randomly versus RandomForest's more iterative approach.\n",
    "       2. Hyperparameter Tuning:\n",
    "           - This has the same hyperparameter tuning decisions as my RandomForestClassifier\n",
    "           \n",
    "           \n",
    "   5. **```LogisticRegression```**\n",
    "       1. Why: I included logistic regression in order to see how it performs vs. RandomForest. Logistic Regression, in general, is much quicker to train and much easier to interpret than Random Forests.\n",
    "       2. Hyperparameter Tuning:\n",
    "           - **Class Weight**: ```['balanced', None]```\n",
    "               - Similarly to my decision in RFClassification, I include both 'balanced' and None for the class weight of my LogisticRegression model\n",
    "           - **Solver**: ```['newton-cg', 'lbfgs', 'liblinear', 'sag', 'saga']```\n",
    "               - I included a variety of different solvers as these tend to be data-dependent and it is good to try a variety. Note that since my problem is not a multiclass problem, I am able to include all of these solvers.\n",
    "           - **Penalty**: ```['l1', 'l2', 'elasticnet', 'none']```\n",
    "               - This represents the penalty used in my loss function.\n",
    "               \n",
    "_______\n",
    "\n",
    "# Evaluation Metrics <a id='metrics'></a>\n",
    "__________\n",
    "I decided to use a **weighted f1 score** as my metric since my data is imbalanced. In addition, it is equally important for a business, who cares about this research question, to correctly predict those looking for work (Precision) while maintaining a high Recall Rate (we aren't missing potential job-seeking individuals). This priority is due to a focus on resource allocation. If a business wants to reach out to individuals that are currently looking for jobs, we want to use a model that efficiently allocates their resources (recruiters) by avoiding reaching out to False Positives and making sure we don't miss any True Positives."
   ]
  },
  {
   "cell_type": "code",
   "execution_count": 5,
   "id": "excess-disaster",
   "metadata": {
    "ExecuteTime": {
     "end_time": "2021-03-10T08:53:38.247070Z",
     "start_time": "2021-03-10T08:53:38.244818Z"
    }
   },
   "outputs": [],
   "source": [
    "# Helper class\n",
    "class DummyEstimator(BaseEstimator):\n",
    "    \"Pass through class, methods are present but do nothing.\"\n",
    "    def fit(self): pass\n",
    "    def score(self): pass"
   ]
  },
  {
   "cell_type": "code",
   "execution_count": 6,
   "id": "dependent-implement",
   "metadata": {
    "ExecuteTime": {
     "end_time": "2021-03-10T08:55:30.314127Z",
     "start_time": "2021-03-10T08:53:38.248694Z"
    },
    "scrolled": true
   },
   "outputs": [],
   "source": [
    "np.random.seed(1)  # Use a random seed to have consistent results\n",
    "\n",
    "pipe = Pipeline([(\"preprocessing\", preprocessing),\n",
    "                 (\"clf\", DummyEstimator())])\n",
    "\n",
    "search_space = [\n",
    "            {'clf': [ExtraTreesClassifier(n_jobs=-1)], \n",
    "                'clf__min_samples_leaf': np.linspace(1, 30, 4, dtype=int),\n",
    "                'clf__bootstrap': [True, False],\n",
    "                'clf__max_samples': [5, 13, 20, 500], \n",
    "                'clf__class_weight': [None, 'balanced', 'balanced_subsample'],\n",
    "                'clf__n_estimators': np.linspace(50, 500, 4, dtype=int)},\n",
    "                \n",
    "            {'clf': [RandomForestClassifier(n_jobs=-1)], \n",
    "                'clf__min_samples_leaf': np.linspace(1, 10, 4, dtype=int),\n",
    "                'clf__bootstrap': [True, False],\n",
    "                'clf__max_samples': [5, 13, 20] ,\n",
    "                'clf__class_weight': [None, 'balanced', 'balanced_subsample'],\n",
    "                'clf__n_estimators': np.linspace(50, 300, 4, dtype=int)},\n",
    "               \n",
    "            {'clf': [KNeighborsClassifier(n_jobs=-1)],\n",
    "                'clf__n_neighbors': np.linspace(3, 13, 3, dtype=int),\n",
    "                'clf__weights': ['uniform', 'distance'],\n",
    "                'clf__p': [1,2]},\n",
    "               \n",
    "            {'clf': [LinearSVC()],  \n",
    "                'clf__class_weight': ['balanced', None],\n",
    "                'clf__C': np.linspace(0.001, 10, 10)},\n",
    "               \n",
    "            {'clf': [LogisticRegression(n_jobs=-1)],  \n",
    "                'clf__solver': ['newton-cg', 'lbfgs', 'liblinear', 'sag', 'saga'],\n",
    "                'clf__class_weight': ['balanced', None],\n",
    "                'clf__penalty': ['l1', 'l2', 'elasticnet', 'none']},\n",
    "\n",
    "            {'clf': [SGDClassifier(n_jobs=-1)],  \n",
    "                'clf__loss': ['hinge', 'log', 'modified_huber', 'squared_hinge', 'perceptron'],\n",
    "                'clf__class_weight': ['balanced', None],\n",
    "                'clf__penalty': ['l1', 'l2', 'elasticnet']}]\n",
    "\n",
    "# Create grid search \n",
    "gs = RandomizedSearchCV(pipe, \n",
    "                        search_space, \n",
    "                        scoring='f1_weighted',\n",
    "                        n_iter=25,\n",
    "                        cv=5,\n",
    "                        n_jobs=-1,\n",
    "                        error_score='raise')\n",
    "\n",
    "gs.fit(X, y);"
   ]
  },
  {
   "cell_type": "code",
   "execution_count": 7,
   "id": "imperial-woman",
   "metadata": {
    "ExecuteTime": {
     "end_time": "2021-03-10T08:55:30.324493Z",
     "start_time": "2021-03-10T08:55:30.318305Z"
    },
    "scrolled": true
   },
   "outputs": [
    {
     "name": "stdout",
     "output_type": "stream",
     "text": [
      "Best f1_weighted Score: 0.80\n",
      "\n",
      "Best Model: RandomForestClassifier(bootstrap=False, class_weight='balanced', max_samples=13,\n",
      "                       min_samples_leaf=4, n_estimators=216, n_jobs=-1)\n"
     ]
    }
   ],
   "source": [
    "print(f'Best f1_weighted Score: {gs.best_score_:.3f}\\n\\nBest Model: {gs.best_params_[\"clf\"]}')"
   ]
  },
  {
   "cell_type": "markdown",
   "id": "unique-india",
   "metadata": {},
   "source": [
    "# RandomizedSearchCV Results: \n",
    "Best Model:\n",
    "```python\n",
    "RandomForestClassifier(bootstrap=False,  # No bootstrapping -> Each tree sees all data\n",
    "                       class_weight='balanced',  # Good because our data is imbalanced\n",
    "                       min_samples_leaf=4,  # Increasing can improve generalizability if we are overfitting\n",
    "                       n_estimators=216,  # Plenty of trees to train\n",
    "                       n_jobs=-1)\n",
    "```\n",
    "F1_Weighted Score: ```0.798```\n",
    "\n",
    "Commentary:\n",
    "- Class_weight being 'balanced_subsample' can be changed to 'balanced' because we are not bootstrapping. In addition, we can remove max_samples from the hyperparamter list.\n",
    "- We notice that bootstrapping let to a worse cross-validated weighted-f1 score.\n",
    "- In addition, our min_samples_leaf was 4, which helps weaken the individual decision trees, but increase model generalizability (decreases variance)\n",
    "- The class_weight being balanced which makes sense because our data is imbalanced and the model needs to add weights to the different labels. This can lead to a higher recall score and a lower precision score.\n",
    "   \n",
    "_________\n",
    "# Ensemble Learning <a id='ensemble'></a>\n",
    "_______\n",
    "In order to further improve our model, we can look into ensemble learning as a way to improve our metric (f1_weighted). Note that we will be primarily looking at:\n",
    "1. VotingClassifier()\n",
    "    - This is the simplest of the three as it simply combines multiple machine learning models and takes the most common prediction (\"Hard Voting\") or the probability-weighted average of the individual learners (\"Soft Voting\").\n",
    "2. Bagging\n",
    "    - Bagging is useful because it tends to reduce the time of each individual model and improve the overall generality. In addition, it can be used with a variety of different models.\n",
    "3. Boosting\n",
    "    - Boosting has shown a lot of promise in improving model metrics the most (at least what I've read online). Therefore, I predict that this may lead to my best evaluation metric.\n",
    "________"
   ]
  },
  {
   "cell_type": "code",
   "execution_count": 8,
   "id": "based-welsh",
   "metadata": {
    "ExecuteTime": {
     "end_time": "2021-03-10T08:55:38.942534Z",
     "start_time": "2021-03-10T08:55:30.328083Z"
    }
   },
   "outputs": [
    {
     "name": "stdout",
     "output_type": "stream",
     "text": [
      "Mean: 0.80  |  Min: 0.79  |  Median: 0.80  |  Max: 0.80  |  Std: 0.01\n"
     ]
    }
   ],
   "source": [
    "# Helper Function for displaying results of cross_val_score\n",
    "def print_val_score(res):\n",
    "    mean   = np.mean(res)\n",
    "    max_   = np.max(res)\n",
    "    min_   = np.min(res)\n",
    "    std    = np.std(res)\n",
    "    median = np.median(res)\n",
    "    print(f\"Mean: {mean:.3f}  |  Min: {min_:.3f}  |  Median: {median:.3f}  |  Max: {max_:.3f}  |  Std: {std:.3f}\")\n",
    "    \n",
    "    \n",
    "# Calculate the general stats for our first model to have a way to compare other methods\n",
    "rfc_clf =  RandomForestClassifier(bootstrap=False, \n",
    "                                  class_weight='balanced',\n",
    "                                  min_samples_leaf=4, \n",
    "                                  n_estimators=216,\n",
    "                                  n_jobs=-1)\n",
    "\n",
    "\n",
    "pipe = Pipeline([('preprocessing', preprocessing),\n",
    "                  ('model', rfc_clf)])\n",
    "\n",
    "res = cross_val_score(pipe, X, y, cv=5, scoring='f1_weighted')\n",
    "print_val_score(res)"
   ]
  },
  {
   "cell_type": "markdown",
   "id": "special-drilling",
   "metadata": {},
   "source": [
    "# Voting Classifier:\n",
    "_______\n",
    "In this section, I simply combine 3 different models that seemed to perform the best (through multiple iterations of my RandomizedSearchCV)."
   ]
  },
  {
   "cell_type": "code",
   "execution_count": 9,
   "id": "abandoned-mitchell",
   "metadata": {
    "ExecuteTime": {
     "end_time": "2021-03-10T08:56:03.596513Z",
     "start_time": "2021-03-10T08:55:38.943975Z"
    }
   },
   "outputs": [
    {
     "name": "stdout",
     "output_type": "stream",
     "text": [
      "Mean: 0.79  |  Min: 0.78  |  Median: 0.79  |  Max: 0.80  |  Std: 0.01\n"
     ]
    }
   ],
   "source": [
    "# Different Models that I will be using:\n",
    "rfc_clf =  RandomForestClassifier(bootstrap=False, \n",
    "                                  class_weight='balanced',\n",
    "                                  min_samples_leaf=4, \n",
    "                                  n_estimators=216,\n",
    "                                  n_jobs=-1)\n",
    "\n",
    "lr_clf  = LogisticRegression(class_weight='balanced', \n",
    "                             n_jobs=-1, \n",
    "                             solver='sag')\n",
    "\n",
    "etc_clf = ExtraTreesClassifier(class_weight='balanced', \n",
    "                               max_samples=20,\n",
    "                               min_samples_leaf=10, \n",
    "                               n_estimators=50, \n",
    "                               n_jobs=-1)\n",
    "\n",
    "\n",
    "# Different pipelines\n",
    "pipe1 = Pipeline([('preprocessing', preprocessing),\n",
    "                  ('model', rfc_clf)])\n",
    "\n",
    "pipe2 = Pipeline([('preprocessing', preprocessing),\n",
    "                  ('model', lr_clf)])\n",
    "\n",
    "pipe3= Pipeline([('preprocessing', preprocessing),\n",
    "                  ('model', etc_clf)])\n",
    "\n",
    "\n",
    "estimators = [('rfc', pipe1),\n",
    "              ('lr', pipe2),\n",
    "              ('etc', pipe3)]\n",
    "\n",
    "# Initialize my VotingClassifier\n",
    "voting_clf = VotingClassifier(estimators = estimators,\n",
    "                                  voting = 'soft',)\n",
    "\n",
    "# Use Cross_val_score to see how well my model performs:\n",
    "res = cross_val_score(voting_clf, X, y, cv=5, scoring='f1_weighted')\n",
    "\n",
    "print_val_score(res)"
   ]
  },
  {
   "cell_type": "markdown",
   "id": "young-conjunction",
   "metadata": {},
   "source": [
    "## VotingClassifier Results:\n",
    "    - As we can see, our weighted f1 score is pretty close to how our single RandomForestClassifier performed.\n",
    "    - It doesn't look like there is much significant difference, therefore we can move on to other ensemble techniques  \n",
    "_________\n",
    "# Bagging:\n",
    "___________\n",
    "In this section, I experiment the use of bagging with my RandomForestClassifier "
   ]
  },
  {
   "cell_type": "code",
   "execution_count": 10,
   "id": "express-biotechnology",
   "metadata": {
    "ExecuteTime": {
     "end_time": "2021-03-10T08:56:55.007221Z",
     "start_time": "2021-03-10T08:56:03.598121Z"
    }
   },
   "outputs": [
    {
     "name": "stdout",
     "output_type": "stream",
     "text": [
      "Mean: 0.80  |  Min: 0.79  |  Median: 0.80  |  Max: 0.81  |  Std: 0.01\n"
     ]
    }
   ],
   "source": [
    "rfc_clf = RandomForestClassifier(bootstrap=False,\n",
    "                                 class_weight='balanced',\n",
    "                                 min_samples_leaf=4,\n",
    "                                 n_estimators=216,\n",
    "                                 n_jobs=-1)\n",
    "\n",
    "bag = BaggingClassifier(rfc_clf,\n",
    "                        n_estimators=11,\n",
    "                        max_samples=0.8,\n",
    "                        max_features=0.9,\n",
    "                        oob_score=True)\n",
    "\n",
    "bagging_pipe = Pipeline([('preprocessing', preprocessing),\n",
    "                         ('model', bag)])\n",
    "\n",
    "res = cross_val_score(bagging_pipe, X, y, cv=5, scoring='f1_weighted')\n",
    "\n",
    "print_val_score(res)"
   ]
  },
  {
   "cell_type": "markdown",
   "id": "advisory-spending",
   "metadata": {},
   "source": [
    "## Bagging Results:\n",
    "    - Similarly to VotingClassifier, the Bagging did not substantially improve the model's performance, nor did it improve the model's predictive variance. In other words, bagging did not lead to more consistent results (aka: smaller standard deviation)\n",
    "    \n",
    "_______\n",
    "# Boosting\n",
    "In this section, will look at implementing a gradient boosting machine, specifically using a GradientBoostingClassifier as my final estimator in my StackingClassifier.\n",
    "\n",
    "__________\n",
    "### GradientBoostingClassifier"
   ]
  },
  {
   "cell_type": "code",
   "execution_count": 11,
   "id": "severe-chance",
   "metadata": {
    "ExecuteTime": {
     "end_time": "2021-03-10T08:58:06.887795Z",
     "start_time": "2021-03-10T08:56:55.011634Z"
    }
   },
   "outputs": [
    {
     "name": "stdout",
     "output_type": "stream",
     "text": [
      "Mean: 0.80  |  Min: 0.80  |  Median: 0.80  |  Max: 0.81  |  Std: 0.01\n"
     ]
    }
   ],
   "source": [
    "final_estimator = GradientBoostingClassifier()\n",
    "\n",
    "estimators = [('rfc', pipe1),\n",
    "              ('lr', pipe2),\n",
    "              ('etc', pipe3)]\n",
    "\n",
    "\n",
    "reg = StackingClassifier(estimators=estimators,\n",
    "                        final_estimator=final_estimator, \n",
    "                         n_jobs=-1)\n",
    "\n",
    "res = cross_val_score(reg, X, y, cv=5, scoring='f1_weighted')\n",
    "\n",
    "print_val_score(res)"
   ]
  },
  {
   "cell_type": "markdown",
   "id": "mysterious-durham",
   "metadata": {},
   "source": [
    "## Ensemble Model Results:\n",
    "\n",
    "1. VotingClassifier():\n",
    "    - Using RandomForestClassifier, LogisticRegression, and ExtraTreesClassifier, this strategy yielded similar results to my initial RandomForestClassifier.\n",
    "    - Note that I used a 'soft' scoring since every one of my models include probabilities to serve as a metric of confidence in a prediction.\n",
    "    - I decided to not use this method for my final model because it did not perform significantly better than my initial model.\n",
    "    \n",
    "    \n",
    "2. Bagging:\n",
    "    - Similarly to VotingClassifier, this ensemble method did not do significantly better than my simpler model (1 RandomForestClassifier).\n",
    "\n",
    "\n",
    "3. GradientBoostingClassifier():\n",
    "    - This strategy, using a GradientBoostingClassifier as my final_estimator in a StackingClassifier gave me my best f1_weighted score. Therefore, I am going to use this as my final model. Note that the 3 estimators from my VotingClassifier() were used as the first step in my stackingClassifier.\n",
    "___________"
   ]
  },
  {
   "cell_type": "markdown",
   "id": "current-invention",
   "metadata": {},
   "source": [
    "# Final Model Selection <a id='final_model'></a>\n",
    "___________\n",
    "I decided to use a StackingClassifier with the 3 estimators from my VotingClassifier and a GradientBoostingClassifier as my final estimator. This decision took into consideration the longer training time and considered that the increase in my weighted f1_score made it worth it.\n",
    "_______\n",
    "## Specifications of the Final Model:\n",
    "\n",
    "\n",
    "Our final model included a **GradientBoostingClassifier** as our final estimator in a **StackingClassifier**.\n",
    "The way a StackingClassifier works is that it takes in a number of estimators that will output their results as the input of our GradientBoostingClassifier (which trains a default of 100 decision stumps). Now, for the inputs: \n",
    "1. Estimator 1:\n",
    "   - This model was my initial model that outperformed the other models I tested in my RandomizedSearchCV\n",
    "   - Note that the hyperparameters for the RandomForestClassifier were chosen through a RandomizedSearchCV explained in my Initial Model selection.\n",
    "```python\n",
    "RandomForestClassifier(bootstrap=False,  # Don't bootstrap (each tree is trained on all data)\n",
    "                       class_weight='balanced',  # Imbalanced data\n",
    "                       min_samples_leaf=4,  # Increasing can improve generalizability if we are overfitting\n",
    "                       n_estimators=216,  # Plenty of trees to try to reduce variability in predictions\n",
    "                       n_jobs=-1)\n",
    "    ```\n",
    "2. Estimator 2:\n",
    "    - A LogisticRegression model was used in addition to add a more variety of models. These hyperparameters were chosen based off of rerunning my RandomizedSearchCV until I got different models from the RandomForestClassifier.\n",
    "```python\n",
    "LogisticRegression(class_weight='balanced',  # Imbalanced data\n",
    "                   n_jobs=-1, \n",
    "                   solver='sag')  # sag gives us a faster convergence on normalized data\n",
    "```\n",
    "3. Estimator 3:\n",
    "    -  An ExtraTreesClassifier was also used because it I wanted to include at least one model that involved bootstrapping data. In particular, this model trained 50 trees on 20 sample observations from the data. In addition, the default hyperparameter for max_features trains each tree on a subset of the features in the data. Setting min_samples_leaf to 10 can lead to more generalizable results as each tree is cut a bit shorter in order for them to better predict on observations it hasn't seen before. Note that these hyperparameters were chosen based off of rerunning my RandomizedSearchCV until I got different models from the RandomForestClassifier.\n",
    "```python\n",
    "ExtraTreesClassifier(class_weight='balanced',  # Imbalanced data\n",
    "                     max_samples=20,  # Train each tree on a sample of 20 observations\n",
    "                     min_samples_leaf=10,  # Increasing can improve generalizability if we are overfitting\n",
    "                     n_estimators=50,  # Number of trees to create in our classifier\n",
    "                     n_jobs=-1)\n",
    "```\n",
    "_________\n",
    "**All together**:\n",
    "```python\n",
    "final_estimator = GradientBoostingClassifier()  # Default hyperparameters\n",
    "\n",
    "reg = StackingClassifier(estimators=estimators,  # The individual estimators explained above\n",
    "                         final_estimator=final_estimator, \n",
    "                         n_jobs=-1)\n",
    "\n",
    "```\n",
    "_________\n",
    "\n",
    "**But wait, there's more!**\n",
    "In order to fit our StackingClassifier on the data, we needed to first include our preprocessing steps.\n",
    "\n",
    "This involved:\n",
    "   1. Ranking some ordinal features by their relative probabilities of having the target variable = 1.\n",
    "       - Note that this is something I wanted to test to see how it would impact my final result. It is not common practice to use this method. Instead, when encoding ordinal features, we define the order heuristically. For example:\n",
    "           - Say we have a feature, Education, with 3 categories: High School, Masters, PhD. The traditional way would be to either OneHotEncode them or encode them with their order of difficulty to acquire (High School -> 1, Masters -> 2, PhD -> 3). My method involved looking at each category and seeing which had the highest probability of having our target=1 (the individual is currently looking for work). With that information, we can rank them in that order, where higher numbers signify that they are **more** likely to be looking for work than lower numbers.\n",
    "   2. Using OneHotEncoding on both 'city' and 'gender' after imputing \"missing\" values anywhere the data is not collected.\n",
    "   3. Imputing the median for the numerical values, scaling them, and then changing their distribution into a Gaussian one.\n",
    "\n",
    "       \n",
    "______\n",
    "## Evaluating the Final Model <a id='results'></a>\n",
    "Now that we have a final model, we can:\n",
    "   1. Predict on the test set and see what our f1_weighted score is.\n",
    "   2. Look at the confusion matrix of our predictions as well.\n",
    "   3. Look at some feature importance since we are using a Tree-based algorithm.\n",
    "_______\n",
    "**First**, we need to load in our testing data."
   ]
  },
  {
   "cell_type": "code",
   "execution_count": 12,
   "id": "collect-associate",
   "metadata": {
    "ExecuteTime": {
     "end_time": "2021-03-10T08:58:06.902864Z",
     "start_time": "2021-03-10T08:58:06.889438Z"
    }
   },
   "outputs": [],
   "source": [
    "X_test = pd.read_csv('HR_Analytics/aug_test.csv')\n",
    "y_test = np.load('HR_Analytics/aug_test_y.npy')"
   ]
  },
  {
   "cell_type": "markdown",
   "id": "synthetic-status",
   "metadata": {},
   "source": [
    "### 1. Train our model on all of the training data and then see how it performs on the test data"
   ]
  },
  {
   "cell_type": "code",
   "execution_count": 13,
   "id": "smart-ecology",
   "metadata": {
    "ExecuteTime": {
     "end_time": "2021-03-10T08:58:24.196024Z",
     "start_time": "2021-03-10T08:58:06.904499Z"
    }
   },
   "outputs": [],
   "source": [
    "np.random.seed(1)  # Consistent results\n",
    "\n",
    "# Different Models that I will be using:\n",
    "rfc_clf =  RandomForestClassifier(bootstrap=False, \n",
    "                                  class_weight='balanced',\n",
    "                                  min_samples_leaf=4, \n",
    "                                  n_estimators=216,\n",
    "                                  n_jobs=-1)\n",
    "\n",
    "lr_clf  = LogisticRegression(class_weight='balanced', \n",
    "                             n_jobs=-1, \n",
    "                             solver='sag')\n",
    "\n",
    "etc_clf = ExtraTreesClassifier(class_weight='balanced', \n",
    "                               max_samples=20,\n",
    "                               min_samples_leaf=10, \n",
    "                               n_estimators=50, \n",
    "                               n_jobs=-1)\n",
    "\n",
    "# Different pipelines\n",
    "pipe1 = Pipeline([('preprocessing', preprocessing),\n",
    "                  ('model', rfc_clf)])\n",
    "\n",
    "pipe2 = Pipeline([('preprocessing', preprocessing),\n",
    "                  ('model', lr_clf)])\n",
    "\n",
    "pipe3= Pipeline([('preprocessing', preprocessing),\n",
    "                  ('model', etc_clf)])\n",
    "\n",
    "\n",
    "estimators = [('rfc', pipe1),\n",
    "              ('lr', pipe2),\n",
    "              ('etc', pipe3)]\n",
    "\n",
    "reg = StackingClassifier(estimators=estimators,\n",
    "                        final_estimator=GradientBoostingClassifier(), \n",
    "                         n_jobs=-1)\n",
    "reg.fit(X,y);"
   ]
  },
  {
   "cell_type": "code",
   "execution_count": 14,
   "id": "african-briefs",
   "metadata": {
    "ExecuteTime": {
     "end_time": "2021-03-10T08:58:24.351243Z",
     "start_time": "2021-03-10T08:58:24.197871Z"
    }
   },
   "outputs": [
    {
     "name": "stdout",
     "output_type": "stream",
     "text": [
      "Weighted f1_Score = 0.80\n"
     ]
    }
   ],
   "source": [
    "y_pred = reg.predict(X_test)\n",
    "print(f\"Weighted f1_Score = {f1_score(y_test, y_pred, average='weighted'):.3f}\")"
   ]
  },
  {
   "cell_type": "markdown",
   "id": "creative-chocolate",
   "metadata": {},
   "source": [
    "**Result**: As we can see, our model has a **weighted f1-score of 0.795** on our testing set, which is around the same as the training set. This is a good sign because it can imply that our model might not have been overfit on the training and that it generalizes on new data just as well as data it was trained on.\n",
    "__________\n",
    "### 2. View the confusion matrix of our predictions and calculate the accuracy, recall and precision scores."
   ]
  },
  {
   "cell_type": "code",
   "execution_count": 15,
   "id": "welsh-dakota",
   "metadata": {
    "ExecuteTime": {
     "end_time": "2021-03-10T08:58:24.941413Z",
     "start_time": "2021-03-10T08:58:24.352865Z"
    }
   },
   "outputs": [
    {
     "name": "stdout",
     "output_type": "stream",
     "text": [
      "Recall Score: 0.64  |  Precision Score: 0.62  |  f1 Weighted Score: 0.80\n"
     ]
    },
    {
     "data": {
      "image/png": "[encoded data removed]",
      "text/plain": [
       "<Figure size 432x288 with 2 Axes>"
      ]
     },
     "metadata": {
      "needs_background": "light"
     },
     "output_type": "display_data"
    }
   ],
   "source": [
    "plot_confusion_matrix(reg, \n",
    "                      X_test, \n",
    "                      y_test,\n",
    "                      display_labels=['Not Looking', 'Looking for Work']);\n",
    "\n",
    "\n",
    "rec = recall_score(y_test, y_pred)\n",
    "prec = precision_score(y_test, y_pred)\n",
    "\n",
    "print(f\"Recall Score: {rec:.2f}  |  Precision Score: {prec:.2f}\",\\\n",
    "     f\" |  f1 Weighted Score: {f1_score(y_test, y_pred, average='weighted'):.2f}\");"
   ]
  },
  {
   "cell_type": "markdown",
   "id": "suffering-fruit",
   "metadata": {},
   "source": [
    "#### Interpretation:\n",
    "1. Looking at the confusion matrix, we see that our model did fairly well. In particular, our model misclassified only 14% of individuals not looking for work, and 37% of individuals looking for work.\n",
    "\n",
    "\n",
    "2. In particular, our precision score was 62%, which means that **\"When my model predicted someone to be Looking for Work, it was accurate 62% of the time.\"**. Although this isn't an amazing score, it can still be useful for a variety of potential business cases. In the narrative that we are using this model to help better allocate the time of our recruiters, having a 62% chance that every candidate the recruiter is talking to is looking for a job, can be a huge time saver. This is compared to not using the model and having only a 33% chance of reaching out to someone at random and them currently looking for work.\n",
    "\n",
    "\n",
    "3. In addition, we can look at the recall score. At 63%, this means that **\"When an individual was looking for work, our model accurately classified them 63% of the time.\"** This is also an important metric for the above business situation. In particular, we would want to minimize our False Negatives, aka: when our model inaccurately predicts someone who is looking for work.\n",
    "\n",
    "\n",
    "4. All together, we can look at the weighted f1 score of **79%** because our business case revolves around maximizing both precision and recall. Note that since this is an imbalanced dataset, our f1 score calculates the metric for each label, weighs it proportionally to its relative frequency, and outputs a score that, in this case, is not in-between the recall and precision score. \n",
    "______\n",
    "### 3. Feature Importance.\n",
    "For interpretability, it is always important to try to extract feature importance from a model. In other words, what features were deemed the \"most important\" for our model. For this task, I use sklearn's built-in permutation_importance over 100 iterations"
   ]
  },
  {
   "cell_type": "code",
   "execution_count": 16,
   "id": "oriented-combine",
   "metadata": {
    "ExecuteTime": {
     "end_time": "2021-03-10T09:01:40.286847Z",
     "start_time": "2021-03-10T08:58:24.942699Z"
    }
   },
   "outputs": [
    {
     "name": "stdout",
     "output_type": "stream",
     "text": [
      "         Feature           Mean       std     \n",
      "----------------------------------------------\n",
      "city_development_index    0.05  +/- 0.01\n",
      "city                      0.04  +/- 0.01\n",
      "company_size              0.02  +/- 0.00\n",
      "company_type              0.02  +/- 0.00\n",
      "education_level           0.01  +/- 0.00\n",
      "relevent_experience       0.01  +/- 0.00\n",
      "enrolled_university       0.00  +/- 0.00\n"
     ]
    }
   ],
   "source": [
    "np.random.seed(1)\n",
    "r = permutation_importance(reg, X_test, y_test,\n",
    "                           n_repeats=100)\n",
    "\n",
    "print(f\"{'Feature':^25}{'Mean':^8}{'std':^13}\")\n",
    "print('-'*(25+8+13))\n",
    "for i in r.importances_mean.argsort()[::-1]:\n",
    "    if r.importances_mean[i] - 2 * r.importances_std[i] > 0:\n",
    "        print(f\"{X.columns[i]:<25}\",\\\n",
    "              f\"{r.importances_mean[i]:.2f}\",\\\n",
    "              f\" +/- {r.importances_std[i]:.2f}\")"
   ]
  },
  {
   "cell_type": "markdown",
   "id": "christian-playback",
   "metadata": {},
   "source": [
    "#### Results:\n",
    "1. Interestingly enough, it looks like the city_development_index is the most impactful when making this prediction. In order to better understand the relationship between city_development_index and the target variable, it is helpful to look at a quick plot:\n",
    "\n",
    "<img src=\"Images/EDA_City_Development_Index.png\" alt=\"Drawing\" style=\"width: 400px;\"/>\n",
    "\n",
    "2. As we can see, it looks like as the city_development_index increases, people are less likely to be looking for a job. This makes sense as a higher city development index could mean that people are more content with their current location. Note that this assumes that looking for work tends to be a factor of location as well as things related to your current job (job type, company size, etc). In addition, this graph could be interpreted on the flip-side. People in cities with a low development index are much more likely to be seeking a new job.\n",
    "\n",
    "3. Besides city_development_index, the city, company_size and major_discipline also had a relatively high impact.\n",
    "\n",
    "_________\n",
    "# Conclusion: <a id='conclusion'></a>  \n",
    "\n",
    "## Summary:\n",
    "With a goal of implementing a variety of skills learned in my Machine Learning Lab, this project focused on HR data to help identify whether or not someone is currently looking for a job. After extensive EDA, I decided to construct three separate pipelines for preprocessing: one for each type of feature (numerical, categorical, ordinal). Next, although my data was imbalanced, I decided against using oversampling with SMOTE because it didn't lead to a noticeable improvement (as shown with cross validation). Finally, I tried several of ensemble techniques and decided that my final model would be a StackingClassifer with a variety of estimators derived from my RandomizedSearchCV and a GradientBoostingClassifier as my final estimator. Note that I used a weighted f1 score as my metric to compare models with as it equally values precision and recall scores while taking into consideration that the data is imbalanced.\n",
    "\n",
    "## Common Questions:\n",
    "1. **Why does any of this matter?**\n",
    "    - **I am glad you asked!** Although this project was primarily as a tool to explore different modeling methods on fairly clean data, we did it in a way focusing on a hypothetical scenario where this data would be used. This is helpful when working on actual business problems, because it is important to iterative over different models and have a consistent and **relevant** metric that we compare each model with. This metric is relevant to the business use-case.\n",
    "\n",
    "\n",
    "2. **Why did I impute categorical variables to be \"missing\" instead of \"most_frequent\"?**\n",
    "   - I chose to do this because imputing the most_frequent can add bias to our model. In essence, we are assuming that the entry was empty because of a clerical error, which could, in itself, have an impact on our target variable. One could argue that me imputing \"missing\" could be adding my own bias that these weren't just clerical errors and have an equally negative impact on our model. In the end, it was personal preference.\n",
    "   - **Follow up: Why did I not impute missing for numerical as well?**\n",
    "       - With numerical data, we need slightly different imputing strategies. This is because we want our end result to be all numerical. Therefore, I chose to use an IterativeImputer which I explain below.\n",
    "\n",
    "\n",
    "3. **How did I decide to using my own ordinal encoding?**\n",
    "    - After noticing that a lot of the categories had some inherent order to them, I was interested to see if I could find a relationship with a given value and an improved chance of signifying whether an observation is \"Looking for a Job\" (target == 1). I did this by calculating the relative probability that each column (other than 'city', 'gender', and the numerical columns) leads to the target being 1.\n",
    "\\begin{equation}\n",
    "P(target = 1 | X[col] = val) \n",
    "\\text{  For col in ordinal columns, val in unique values in X[col]}\n",
    "\\end{equation}\n",
    "\n",
    "\n",
    "4. **Why did I use an IterativeImputer for my numerical data?**\n",
    "    - This decision was made primarily because I did not want to have a single rule of only imputing the median. Instead, an IterativeImputer works in the following way:\n",
    "        - Say you have 4 columns ('a', 'b', 'c', 'd') and one column ('d') is missing some values. An iterative imputer will train a new model trying to predict the missing values in 'd' with the values in ('a', 'b', 'c').\n",
    "\n",
    "\n",
    "5. **Why did I use a QuantileTransformer on my numerical data?**\n",
    "    - \"Many machine learning algorithms prefer or perform better when numerical variables have a Gaussian or standard probability distribution.\" (https://machinelearningmastery.com/quantile-transforms-for-machine-learning/). In particular, I included a LogisticRegression model in my RandomizedSearchCV which assumes that the data is normalized.\n",
    "\n",
    "\n",
    "6. **Why did I use cross_val_score?**\n",
    "    - I decided to use cross_val_score because I felt that it was a better route of getting a good sense of how well a model performs in order to properly compare it to other modeling strategies.\n",
    "    \n",
    "    \n",
    "7. **Why did I decide to use the StackingClassifier()?**\n",
    "   - Simply put, it had a better cross validation score than any other model.\n",
    "\n",
    "\n",
    "## Future Steps\n",
    "1. As Boosting has taken Kaggle competitions by stride, it would be interesting to see more exploration on how boosting can further improve this model. In particular, I am interested to see how XGBoost and CatBoost can be used to solve this problem.\n",
    "2. Further exploration on other feature engineering techniques that could improve predictability."
   ]
  },
  {
   "cell_type": "code",
   "execution_count": null,
   "id": "fundamental-insider",
   "metadata": {},
   "outputs": [],
   "source": []
  }
 ],
 "metadata": {
  "kernelspec": {
   "display_name": "Python 3",
   "language": "python",
   "name": "python3"
  },
  "language_info": {
   "codemirror_mode": {
    "name": "ipython",
    "version": 3
   },
   "file_extension": ".py",
   "mimetype": "text/x-python",
   "name": "python",
   "nbconvert_exporter": "python",
   "pygments_lexer": "ipython3",
   "version": "3.8.5"
  }
 },
 "nbformat": 4,
 "nbformat_minor": 5
}
